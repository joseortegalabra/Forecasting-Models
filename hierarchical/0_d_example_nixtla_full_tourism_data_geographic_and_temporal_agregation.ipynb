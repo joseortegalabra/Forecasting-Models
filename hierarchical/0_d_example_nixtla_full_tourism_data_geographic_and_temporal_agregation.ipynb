{
 "cells": [
  {
   "cell_type": "markdown",
   "id": "690cfc00-a5fc-4396-a303-a9c4005f273f",
   "metadata": {},
   "source": [
    "# NOTEBOOK COPIA EJEMPLO NIXTLA hierarchicalforecast\n",
    "\n",
    "----\n",
    "### ejemplo conciliacion GEOGRÁFICA Y TEMPORAL de los datos\n",
    "- Ejecución de notebook ejemplo base de nixtla - replicar código ejemplo y análisis extra para entender código y modelos ya hechos\n",
    "\n",
    "- EJEMPLO LA DATA FULL DE TOURISM\n",
    "\n",
    "- FUENTES:\n",
    "    - geographical aggregation (POINT CONCILIATION): https://nixtlaverse.nixtla.io/hierarchicalforecast/examples/australiandomestictourism.html\n",
    "\n",
    "    - temporal aggregation (TEMPORAL CONCILIATION): https://nixtlaverse.nixtla.io/hierarchicalforecast/examples/australiandomestictourismtemporal.html\n",
    " \n",
    "    - geographical and temporal aggregation: https://nixtlaverse.nixtla.io/hierarchicalforecast/examples/australiandomestictourismcrosstemporal.html\n",
    " \n",
    "    - paper base investigación (los códigos de nixtla replican lo obtenido por el paper): https://robjhyndman.com/seminars/fr_overview.html"
   ]
  },
  {
   "cell_type": "code",
   "execution_count": null,
   "id": "5f4616fe-3172-425d-9021-7abb3bdba734",
   "metadata": {},
   "outputs": [],
   "source": []
  },
  {
   "cell_type": "markdown",
   "id": "692376a0-6091-4d6e-bd82-3824ae17223a",
   "metadata": {},
   "source": [
    "# GEOGRÁFICA Y TEMPORAL RECONCILIATION (Tourism)\n",
    "FUENTE BASE: https://nixtlaverse.nixtla.io/hierarchicalforecast/examples/australiandomestictourismcrosstemporal.html"
   ]
  },
  {
   "cell_type": "markdown",
   "id": "74c244e5-3200-4656-8da9-f76e17838c29",
   "metadata": {},
   "source": [
    "We will first load the Tourism data and produce base forecasts using an AutoETS model from StatsForecast. Then, we reconciliate the forecasts with several reconciliation algorithms from HierarchicalForecast according to the cross-sectional geographical hierarchies. Finally, we reconciliate the forecasts in the temporal dimension according to a temporal hierarchy."
   ]
  },
  {
   "cell_type": "markdown",
   "id": "e42eeffb-f783-4fd7-baf8-926c2d350b94",
   "metadata": {},
   "source": [
    "#### ESTE NOTEBOOK ES LA CONSOLIDACIÓN DE LOS 2 NOTEBOOKS ANTERIORES, SE REALIZA PRIMERO UNA CONSOLIDACIÓN GEOGRÁFICA Y LUEGO CONSOLIDACIÓN TEMPORAL"
   ]
  },
  {
   "cell_type": "code",
   "execution_count": null,
   "id": "3993573f-06ad-41e7-9d02-ba95c15e137f",
   "metadata": {},
   "outputs": [],
   "source": []
  },
  {
   "cell_type": "code",
   "execution_count": null,
   "id": "2c76940f-b6ca-44e6-863a-37acf42627e3",
   "metadata": {},
   "outputs": [],
   "source": []
  },
  {
   "cell_type": "markdown",
   "id": "b99ecf77-677f-4c27-8be5-796504487938",
   "metadata": {},
   "source": [
    "### 0. Install nixtla package"
   ]
  },
  {
   "cell_type": "code",
   "execution_count": 1,
   "id": "2622b0e7-8dfb-4883-8798-9eadad8e8f98",
   "metadata": {},
   "outputs": [],
   "source": [
    "# pip install hierarchicalforecast\n",
    "# pip install datasetsforecast\n",
    "# pip install statsforecast"
   ]
  },
  {
   "cell_type": "code",
   "execution_count": 2,
   "id": "8c3145b1-59e3-4f53-a592-ee09dcf6b527",
   "metadata": {},
   "outputs": [],
   "source": [
    "import hierarchicalforecast\n",
    "from datasetsforecast.hierarchical import HierarchicalData\n",
    "import pandas as pd"
   ]
  },
  {
   "cell_type": "code",
   "execution_count": null,
   "id": "b4114dfe-68fb-417a-afeb-c051dd9c524c",
   "metadata": {},
   "outputs": [],
   "source": []
  },
  {
   "cell_type": "markdown",
   "id": "bb847f69-eefb-4e59-a862-9acd6f1a3f13",
   "metadata": {},
   "source": [
    "## run code - example nixtla"
   ]
  },
  {
   "cell_type": "code",
   "execution_count": 3,
   "id": "34482ace-3b63-4f1d-aae8-7a94eb4b9949",
   "metadata": {},
   "outputs": [],
   "source": [
    "import numpy as np\n",
    "import pandas as pd"
   ]
  },
  {
   "cell_type": "code",
   "execution_count": 4,
   "id": "f467a6e0-b7b1-4cba-877f-9624005d6879",
   "metadata": {},
   "outputs": [],
   "source": [
    "# librería para generar los datos desde los niveles de mayor desagracion, hacer las agregaciones ej data trimestral a data anual\n",
    "from hierarchicalforecast.utils import aggregate\n",
    "from hierarchicalforecast.utils import aggregate_temporal"
   ]
  },
  {
   "cell_type": "code",
   "execution_count": 5,
   "id": "6775db75-2b8a-4cba-8529-8a1b81e29f69",
   "metadata": {},
   "outputs": [],
   "source": [
    "from statsforecast.models import AutoETS\n",
    "from statsforecast.core import StatsForecast"
   ]
  },
  {
   "cell_type": "code",
   "execution_count": 6,
   "id": "a271a13d-80f9-467c-b91b-6536d886fc24",
   "metadata": {},
   "outputs": [],
   "source": [
    "from hierarchicalforecast.methods import BottomUp, MinTrace\n",
    "from hierarchicalforecast.core import HierarchicalReconciliation"
   ]
  },
  {
   "cell_type": "code",
   "execution_count": null,
   "id": "d8ecd150-fc8b-4cd3-8d2e-40ecf1cd153b",
   "metadata": {},
   "outputs": [],
   "source": []
  },
  {
   "cell_type": "markdown",
   "id": "276bf9e7-183f-4ba4-b5d1-5879a482c718",
   "metadata": {},
   "source": [
    "### 1. Read data - download data example hyndman"
   ]
  },
  {
   "cell_type": "markdown",
   "id": "781d482a-934c-401b-971a-79d7afc26fbe",
   "metadata": {},
   "source": [
    "#### 1.1 read raw data"
   ]
  },
  {
   "cell_type": "code",
   "execution_count": 7,
   "id": "82e98644-3d9f-4df8-9500-2c694fda457c",
   "metadata": {},
   "outputs": [],
   "source": [
    "data_raw = pd.read_csv('https://raw.githubusercontent.com/Nixtla/transfer-learning-time-series/main/datasets/tourism.csv')\n",
    "data_raw = data_raw.rename({'Trips': 'y', 'Quarter': 'ds'}, axis=1)\n",
    "data_raw.insert(0, 'Country', 'Australia')\n",
    "data_raw = data_raw[['Country', 'Region', 'State', 'Purpose', 'ds', 'y']]\n",
    "data_raw['ds'] = data_raw['ds'].str.replace(r'(\\d+) (Q\\d)', r'\\1-\\2', regex=True)\n",
    "data_raw['ds'] = pd.PeriodIndex(data_raw[\"ds\"], freq='Q').to_timestamp()"
   ]
  },
  {
   "cell_type": "code",
   "execution_count": 8,
   "id": "4576b517-1631-4751-ba9b-8b0cf85af7c6",
   "metadata": {},
   "outputs": [
    {
     "data": {
      "text/html": [
       "<div>\n",
       "<style scoped>\n",
       "    .dataframe tbody tr th:only-of-type {\n",
       "        vertical-align: middle;\n",
       "    }\n",
       "\n",
       "    .dataframe tbody tr th {\n",
       "        vertical-align: top;\n",
       "    }\n",
       "\n",
       "    .dataframe thead th {\n",
       "        text-align: right;\n",
       "    }\n",
       "</style>\n",
       "<table border=\"1\" class=\"dataframe\">\n",
       "  <thead>\n",
       "    <tr style=\"text-align: right;\">\n",
       "      <th></th>\n",
       "      <th>Country</th>\n",
       "      <th>Region</th>\n",
       "      <th>State</th>\n",
       "      <th>Purpose</th>\n",
       "      <th>ds</th>\n",
       "      <th>y</th>\n",
       "    </tr>\n",
       "  </thead>\n",
       "  <tbody>\n",
       "    <tr>\n",
       "      <th>0</th>\n",
       "      <td>Australia</td>\n",
       "      <td>Adelaide</td>\n",
       "      <td>South Australia</td>\n",
       "      <td>Business</td>\n",
       "      <td>1998-01-01</td>\n",
       "      <td>135.077690</td>\n",
       "    </tr>\n",
       "    <tr>\n",
       "      <th>1</th>\n",
       "      <td>Australia</td>\n",
       "      <td>Adelaide</td>\n",
       "      <td>South Australia</td>\n",
       "      <td>Business</td>\n",
       "      <td>1998-04-01</td>\n",
       "      <td>109.987316</td>\n",
       "    </tr>\n",
       "    <tr>\n",
       "      <th>2</th>\n",
       "      <td>Australia</td>\n",
       "      <td>Adelaide</td>\n",
       "      <td>South Australia</td>\n",
       "      <td>Business</td>\n",
       "      <td>1998-07-01</td>\n",
       "      <td>166.034687</td>\n",
       "    </tr>\n",
       "    <tr>\n",
       "      <th>3</th>\n",
       "      <td>Australia</td>\n",
       "      <td>Adelaide</td>\n",
       "      <td>South Australia</td>\n",
       "      <td>Business</td>\n",
       "      <td>1998-10-01</td>\n",
       "      <td>127.160464</td>\n",
       "    </tr>\n",
       "    <tr>\n",
       "      <th>4</th>\n",
       "      <td>Australia</td>\n",
       "      <td>Adelaide</td>\n",
       "      <td>South Australia</td>\n",
       "      <td>Business</td>\n",
       "      <td>1999-01-01</td>\n",
       "      <td>137.448533</td>\n",
       "    </tr>\n",
       "  </tbody>\n",
       "</table>\n",
       "</div>"
      ],
      "text/plain": [
       "     Country    Region            State   Purpose         ds           y\n",
       "0  Australia  Adelaide  South Australia  Business 1998-01-01  135.077690\n",
       "1  Australia  Adelaide  South Australia  Business 1998-04-01  109.987316\n",
       "2  Australia  Adelaide  South Australia  Business 1998-07-01  166.034687\n",
       "3  Australia  Adelaide  South Australia  Business 1998-10-01  127.160464\n",
       "4  Australia  Adelaide  South Australia  Business 1999-01-01  137.448533"
      ]
     },
     "execution_count": 8,
     "metadata": {},
     "output_type": "execute_result"
    }
   ],
   "source": [
    "# print data - se observa que a diferencia del ejemplo small que se carga la matriz S para realizar la reconciliación de forecast\n",
    "# aquí estan todas las series y hay que armar la matriz de cómo se relacionan los forecasts\n",
    "data_raw.head()"
   ]
  },
  {
   "cell_type": "code",
   "execution_count": null,
   "id": "6c52f34d-76ef-4689-9dd0-790b36dbd160",
   "metadata": {},
   "outputs": [],
   "source": []
  },
  {
   "cell_type": "markdown",
   "id": "a997b859-e4fe-4cae-a79d-cb4d1afe61c5",
   "metadata": {},
   "source": [
    "### 2. Realizar agregación de los datos - geográfica - para hacer fcst todas las agregaciones geográficas (ej por región y total país)\n",
    "##### Aggregating the dataset according to cross-sectional hierarchy \"(CS)\""
   ]
  },
  {
   "cell_type": "code",
   "execution_count": 9,
   "id": "b40981f2-7c1c-48c2-a664-da8cd6b93951",
   "metadata": {},
   "outputs": [],
   "source": [
    "# matriz que relaciona las diferentes columnas - agregación geográfica\n",
    "spec = [\n",
    "    ['Country'],\n",
    "    ['Country', 'State'], \n",
    "    ['Country', 'Purpose'], \n",
    "    ['Country', 'State', 'Region'], \n",
    "    ['Country', 'State', 'Purpose'], \n",
    "    ['Country', 'State', 'Region', 'Purpose']\n",
    "]"
   ]
  },
  {
   "cell_type": "code",
   "execution_count": 10,
   "id": "8c87a8a0-53b4-4c7c-ade5-f00263834e29",
   "metadata": {},
   "outputs": [],
   "source": [
    "# generar dataframe con las series individuales (data original) y con las series agregadas hasta tener total_site\n",
    "Y_df_cs, S_df_cs, tags_cs = aggregate(data_raw, spec)"
   ]
  },
  {
   "cell_type": "code",
   "execution_count": 11,
   "id": "e81a744e-b989-4ed9-be46-d0c14ecaf6e5",
   "metadata": {},
   "outputs": [
    {
     "data": {
      "text/html": [
       "<div>\n",
       "<style scoped>\n",
       "    .dataframe tbody tr th:only-of-type {\n",
       "        vertical-align: middle;\n",
       "    }\n",
       "\n",
       "    .dataframe tbody tr th {\n",
       "        vertical-align: top;\n",
       "    }\n",
       "\n",
       "    .dataframe thead th {\n",
       "        text-align: right;\n",
       "    }\n",
       "</style>\n",
       "<table border=\"1\" class=\"dataframe\">\n",
       "  <thead>\n",
       "    <tr style=\"text-align: right;\">\n",
       "      <th></th>\n",
       "      <th>unique_id</th>\n",
       "      <th>ds</th>\n",
       "      <th>y</th>\n",
       "    </tr>\n",
       "  </thead>\n",
       "  <tbody>\n",
       "    <tr>\n",
       "      <th>0</th>\n",
       "      <td>Australia</td>\n",
       "      <td>1998-01-01</td>\n",
       "      <td>23182.197269</td>\n",
       "    </tr>\n",
       "    <tr>\n",
       "      <th>1</th>\n",
       "      <td>Australia</td>\n",
       "      <td>1998-04-01</td>\n",
       "      <td>20323.380067</td>\n",
       "    </tr>\n",
       "    <tr>\n",
       "      <th>2</th>\n",
       "      <td>Australia</td>\n",
       "      <td>1998-07-01</td>\n",
       "      <td>19826.640511</td>\n",
       "    </tr>\n",
       "  </tbody>\n",
       "</table>\n",
       "</div>"
      ],
      "text/plain": [
       "   unique_id         ds             y\n",
       "0  Australia 1998-01-01  23182.197269\n",
       "1  Australia 1998-04-01  20323.380067\n",
       "2  Australia 1998-07-01  19826.640511"
      ]
     },
     "execution_count": 11,
     "metadata": {},
     "output_type": "execute_result"
    }
   ],
   "source": [
    "Y_df_cs.head(3)"
   ]
  },
  {
   "cell_type": "code",
   "execution_count": 12,
   "id": "530a7740-20dd-4ccf-9bd6-857bbff8a8f7",
   "metadata": {},
   "outputs": [
    {
     "data": {
      "text/html": [
       "<div>\n",
       "<style scoped>\n",
       "    .dataframe tbody tr th:only-of-type {\n",
       "        vertical-align: middle;\n",
       "    }\n",
       "\n",
       "    .dataframe tbody tr th {\n",
       "        vertical-align: top;\n",
       "    }\n",
       "\n",
       "    .dataframe thead th {\n",
       "        text-align: right;\n",
       "    }\n",
       "</style>\n",
       "<table border=\"1\" class=\"dataframe\">\n",
       "  <thead>\n",
       "    <tr style=\"text-align: right;\">\n",
       "      <th></th>\n",
       "      <th>unique_id</th>\n",
       "      <th>ds</th>\n",
       "      <th>y</th>\n",
       "    </tr>\n",
       "  </thead>\n",
       "  <tbody>\n",
       "    <tr>\n",
       "      <th>33997</th>\n",
       "      <td>Australia/Western Australia/Experience Perth/V...</td>\n",
       "      <td>2017-04-01</td>\n",
       "      <td>302.296119</td>\n",
       "    </tr>\n",
       "    <tr>\n",
       "      <th>33998</th>\n",
       "      <td>Australia/Western Australia/Experience Perth/V...</td>\n",
       "      <td>2017-07-01</td>\n",
       "      <td>373.442070</td>\n",
       "    </tr>\n",
       "    <tr>\n",
       "      <th>33999</th>\n",
       "      <td>Australia/Western Australia/Experience Perth/V...</td>\n",
       "      <td>2017-10-01</td>\n",
       "      <td>455.316702</td>\n",
       "    </tr>\n",
       "  </tbody>\n",
       "</table>\n",
       "</div>"
      ],
      "text/plain": [
       "                                               unique_id         ds  \\\n",
       "33997  Australia/Western Australia/Experience Perth/V... 2017-04-01   \n",
       "33998  Australia/Western Australia/Experience Perth/V... 2017-07-01   \n",
       "33999  Australia/Western Australia/Experience Perth/V... 2017-10-01   \n",
       "\n",
       "                y  \n",
       "33997  302.296119  \n",
       "33998  373.442070  \n",
       "33999  455.316702  "
      ]
     },
     "execution_count": 12,
     "metadata": {},
     "output_type": "execute_result"
    }
   ],
   "source": [
    "Y_df_cs.tail(3)"
   ]
  },
  {
   "cell_type": "code",
   "execution_count": 13,
   "id": "e15a6bb6-7def-4686-b107-35bff6d58823",
   "metadata": {},
   "outputs": [
    {
     "data": {
      "text/html": [
       "<div>\n",
       "<style scoped>\n",
       "    .dataframe tbody tr th:only-of-type {\n",
       "        vertical-align: middle;\n",
       "    }\n",
       "\n",
       "    .dataframe tbody tr th {\n",
       "        vertical-align: top;\n",
       "    }\n",
       "\n",
       "    .dataframe thead th {\n",
       "        text-align: right;\n",
       "    }\n",
       "</style>\n",
       "<table border=\"1\" class=\"dataframe\">\n",
       "  <thead>\n",
       "    <tr style=\"text-align: right;\">\n",
       "      <th></th>\n",
       "      <th>unique_id</th>\n",
       "      <th>Australia/ACT/Canberra/Business</th>\n",
       "      <th>Australia/ACT/Canberra/Holiday</th>\n",
       "      <th>Australia/ACT/Canberra/Other</th>\n",
       "      <th>Australia/ACT/Canberra/Visiting</th>\n",
       "      <th>Australia/New South Wales/Blue Mountains/Business</th>\n",
       "      <th>Australia/New South Wales/Blue Mountains/Holiday</th>\n",
       "      <th>Australia/New South Wales/Blue Mountains/Other</th>\n",
       "      <th>Australia/New South Wales/Blue Mountains/Visiting</th>\n",
       "      <th>Australia/New South Wales/Capital Country/Business</th>\n",
       "      <th>...</th>\n",
       "      <th>Australia/Western Australia/Australia's North West/Other</th>\n",
       "      <th>Australia/Western Australia/Australia's North West/Visiting</th>\n",
       "      <th>Australia/Western Australia/Australia's South West/Business</th>\n",
       "      <th>Australia/Western Australia/Australia's South West/Holiday</th>\n",
       "      <th>Australia/Western Australia/Australia's South West/Other</th>\n",
       "      <th>Australia/Western Australia/Australia's South West/Visiting</th>\n",
       "      <th>Australia/Western Australia/Experience Perth/Business</th>\n",
       "      <th>Australia/Western Australia/Experience Perth/Holiday</th>\n",
       "      <th>Australia/Western Australia/Experience Perth/Other</th>\n",
       "      <th>Australia/Western Australia/Experience Perth/Visiting</th>\n",
       "    </tr>\n",
       "  </thead>\n",
       "  <tbody>\n",
       "    <tr>\n",
       "      <th>0</th>\n",
       "      <td>Australia</td>\n",
       "      <td>1.0</td>\n",
       "      <td>1.0</td>\n",
       "      <td>1.0</td>\n",
       "      <td>1.0</td>\n",
       "      <td>1.0</td>\n",
       "      <td>1.0</td>\n",
       "      <td>1.0</td>\n",
       "      <td>1.0</td>\n",
       "      <td>1.0</td>\n",
       "      <td>...</td>\n",
       "      <td>1.0</td>\n",
       "      <td>1.0</td>\n",
       "      <td>1.0</td>\n",
       "      <td>1.0</td>\n",
       "      <td>1.0</td>\n",
       "      <td>1.0</td>\n",
       "      <td>1.0</td>\n",
       "      <td>1.0</td>\n",
       "      <td>1.0</td>\n",
       "      <td>1.0</td>\n",
       "    </tr>\n",
       "    <tr>\n",
       "      <th>1</th>\n",
       "      <td>Australia/ACT</td>\n",
       "      <td>1.0</td>\n",
       "      <td>1.0</td>\n",
       "      <td>1.0</td>\n",
       "      <td>1.0</td>\n",
       "      <td>0.0</td>\n",
       "      <td>0.0</td>\n",
       "      <td>0.0</td>\n",
       "      <td>0.0</td>\n",
       "      <td>0.0</td>\n",
       "      <td>...</td>\n",
       "      <td>0.0</td>\n",
       "      <td>0.0</td>\n",
       "      <td>0.0</td>\n",
       "      <td>0.0</td>\n",
       "      <td>0.0</td>\n",
       "      <td>0.0</td>\n",
       "      <td>0.0</td>\n",
       "      <td>0.0</td>\n",
       "      <td>0.0</td>\n",
       "      <td>0.0</td>\n",
       "    </tr>\n",
       "    <tr>\n",
       "      <th>2</th>\n",
       "      <td>Australia/New South Wales</td>\n",
       "      <td>0.0</td>\n",
       "      <td>0.0</td>\n",
       "      <td>0.0</td>\n",
       "      <td>0.0</td>\n",
       "      <td>1.0</td>\n",
       "      <td>1.0</td>\n",
       "      <td>1.0</td>\n",
       "      <td>1.0</td>\n",
       "      <td>1.0</td>\n",
       "      <td>...</td>\n",
       "      <td>0.0</td>\n",
       "      <td>0.0</td>\n",
       "      <td>0.0</td>\n",
       "      <td>0.0</td>\n",
       "      <td>0.0</td>\n",
       "      <td>0.0</td>\n",
       "      <td>0.0</td>\n",
       "      <td>0.0</td>\n",
       "      <td>0.0</td>\n",
       "      <td>0.0</td>\n",
       "    </tr>\n",
       "  </tbody>\n",
       "</table>\n",
       "<p>3 rows × 305 columns</p>\n",
       "</div>"
      ],
      "text/plain": [
       "                   unique_id  Australia/ACT/Canberra/Business  \\\n",
       "0                  Australia                              1.0   \n",
       "1              Australia/ACT                              1.0   \n",
       "2  Australia/New South Wales                              0.0   \n",
       "\n",
       "   Australia/ACT/Canberra/Holiday  Australia/ACT/Canberra/Other  \\\n",
       "0                             1.0                           1.0   \n",
       "1                             1.0                           1.0   \n",
       "2                             0.0                           0.0   \n",
       "\n",
       "   Australia/ACT/Canberra/Visiting  \\\n",
       "0                              1.0   \n",
       "1                              1.0   \n",
       "2                              0.0   \n",
       "\n",
       "   Australia/New South Wales/Blue Mountains/Business  \\\n",
       "0                                                1.0   \n",
       "1                                                0.0   \n",
       "2                                                1.0   \n",
       "\n",
       "   Australia/New South Wales/Blue Mountains/Holiday  \\\n",
       "0                                               1.0   \n",
       "1                                               0.0   \n",
       "2                                               1.0   \n",
       "\n",
       "   Australia/New South Wales/Blue Mountains/Other  \\\n",
       "0                                             1.0   \n",
       "1                                             0.0   \n",
       "2                                             1.0   \n",
       "\n",
       "   Australia/New South Wales/Blue Mountains/Visiting  \\\n",
       "0                                                1.0   \n",
       "1                                                0.0   \n",
       "2                                                1.0   \n",
       "\n",
       "   Australia/New South Wales/Capital Country/Business  ...  \\\n",
       "0                                                1.0   ...   \n",
       "1                                                0.0   ...   \n",
       "2                                                1.0   ...   \n",
       "\n",
       "   Australia/Western Australia/Australia's North West/Other  \\\n",
       "0                                                1.0          \n",
       "1                                                0.0          \n",
       "2                                                0.0          \n",
       "\n",
       "   Australia/Western Australia/Australia's North West/Visiting  \\\n",
       "0                                                1.0             \n",
       "1                                                0.0             \n",
       "2                                                0.0             \n",
       "\n",
       "   Australia/Western Australia/Australia's South West/Business  \\\n",
       "0                                                1.0             \n",
       "1                                                0.0             \n",
       "2                                                0.0             \n",
       "\n",
       "   Australia/Western Australia/Australia's South West/Holiday  \\\n",
       "0                                                1.0            \n",
       "1                                                0.0            \n",
       "2                                                0.0            \n",
       "\n",
       "   Australia/Western Australia/Australia's South West/Other  \\\n",
       "0                                                1.0          \n",
       "1                                                0.0          \n",
       "2                                                0.0          \n",
       "\n",
       "   Australia/Western Australia/Australia's South West/Visiting  \\\n",
       "0                                                1.0             \n",
       "1                                                0.0             \n",
       "2                                                0.0             \n",
       "\n",
       "   Australia/Western Australia/Experience Perth/Business  \\\n",
       "0                                                1.0       \n",
       "1                                                0.0       \n",
       "2                                                0.0       \n",
       "\n",
       "   Australia/Western Australia/Experience Perth/Holiday  \\\n",
       "0                                                1.0      \n",
       "1                                                0.0      \n",
       "2                                                0.0      \n",
       "\n",
       "   Australia/Western Australia/Experience Perth/Other  \\\n",
       "0                                                1.0    \n",
       "1                                                0.0    \n",
       "2                                                0.0    \n",
       "\n",
       "   Australia/Western Australia/Experience Perth/Visiting  \n",
       "0                                                1.0      \n",
       "1                                                0.0      \n",
       "2                                                0.0      \n",
       "\n",
       "[3 rows x 305 columns]"
      ]
     },
     "execution_count": 13,
     "metadata": {},
     "output_type": "execute_result"
    }
   ],
   "source": [
    "S_df_cs.head(3)"
   ]
  },
  {
   "cell_type": "code",
   "execution_count": 14,
   "id": "08cdc726-736f-4842-9ecb-f03b9867b9a1",
   "metadata": {},
   "outputs": [
    {
     "data": {
      "text/plain": [
       "dict_keys(['Country', 'Country/State', 'Country/Purpose', 'Country/State/Region', 'Country/State/Purpose', 'Country/State/Region/Purpose'])"
      ]
     },
     "execution_count": 14,
     "metadata": {},
     "output_type": "execute_result"
    }
   ],
   "source": [
    "tags_cs.keys()"
   ]
  },
  {
   "cell_type": "code",
   "execution_count": null,
   "id": "7326b0d6-7072-4eee-a9e9-b88a46fd6e96",
   "metadata": {},
   "outputs": [],
   "source": []
  },
  {
   "cell_type": "markdown",
   "id": "f938811f-7704-4feb-bb3d-c28eba32b210",
   "metadata": {},
   "source": [
    "### 3. Separar train y test"
   ]
  },
  {
   "cell_type": "code",
   "execution_count": 15,
   "id": "0e424a0b-1779-4df3-af39-76767039fa35",
   "metadata": {},
   "outputs": [],
   "source": [
    "# horizonte fcst a generar\n",
    "horizon = 8"
   ]
  },
  {
   "cell_type": "code",
   "execution_count": 16,
   "id": "7d07da06-f912-4e17-9d15-db4dcb3a91f4",
   "metadata": {},
   "outputs": [],
   "source": [
    "# split train y test\n",
    "Y_test_df_cs = Y_df_cs.groupby(\"unique_id\", as_index=False).tail(horizon)\n",
    "Y_train_df_cs = Y_df_cs.drop(Y_test_df_cs.index)"
   ]
  },
  {
   "cell_type": "code",
   "execution_count": 17,
   "id": "6defe69a-3eb9-4c88-adff-0c9878ed7322",
   "metadata": {},
   "outputs": [
    {
     "name": "stdout",
     "output_type": "stream",
     "text": [
      "Y_df_cs:  (34000, 3)\n",
      "Y_train_df_cs:  (30600, 3)\n",
      "Y_test_df_cs:  (3400, 3)\n"
     ]
    }
   ],
   "source": [
    "# print informativo tamaño de la data original, data_train y data_test\n",
    "print('Y_df_cs: ', Y_df_cs.shape)\n",
    "print('Y_train_df_cs: ', Y_train_df_cs.shape)\n",
    "print('Y_test_df_cs: ', Y_test_df_cs.shape)"
   ]
  },
  {
   "cell_type": "code",
   "execution_count": null,
   "id": "1658742d-197d-42b5-8c63-e78809c9ed89",
   "metadata": {},
   "outputs": [],
   "source": []
  },
  {
   "cell_type": "markdown",
   "id": "f56a3ddc-f23f-4925-9024-63dc935ef0f7",
   "metadata": {},
   "source": [
    "### 4. Computing base forecasts (cross sectional datasets)"
   ]
  },
  {
   "cell_type": "code",
   "execution_count": 18,
   "id": "3ad3d6fc-e929-455f-ae67-4ca3d89f1bd1",
   "metadata": {},
   "outputs": [],
   "source": [
    "# modelo base\n",
    "fcst = StatsForecast(models = [AutoETS(season_length = 4, model = 'ZZA')], \n",
    "                     freq = 'QS',\n",
    "                     n_jobs = -1)\n",
    "\n",
    "# realizar fcst horizonte futuro\n",
    "Y_hat_df_cs = fcst.forecast(df = Y_train_df_cs, h = horizon, fitted = True)\n",
    "\n",
    "# generar data TRAIN con los fcst generados en train (se hace porque una de las consolidaciones necesitan tener el error de train)\n",
    "Y_fitted_df_cs = fcst.forecast_fitted_values()"
   ]
  },
  {
   "cell_type": "code",
   "execution_count": null,
   "id": "2a850552-905e-4b44-ae19-d236049cca20",
   "metadata": {},
   "outputs": [],
   "source": []
  },
  {
   "cell_type": "markdown",
   "id": "977de25d-738b-4a87-832b-60c01461228b",
   "metadata": {},
   "source": [
    "### 5. Reconciliar fcst (cross sectional data)"
   ]
  },
  {
   "cell_type": "code",
   "execution_count": 19,
   "id": "15598ace-23de-42cd-a523-4da0bd8b4d96",
   "metadata": {},
   "outputs": [],
   "source": [
    "# definir metodos de reconciliación a probar\n",
    "reconcilers = [\n",
    "    BottomUp(),\n",
    "    MinTrace(method='mint_shrink'),\n",
    "    MinTrace(method='ols')\n",
    "]"
   ]
  },
  {
   "cell_type": "code",
   "execution_count": 20,
   "id": "3db206a3-80d5-4ed1-9caf-6b7ff71be950",
   "metadata": {},
   "outputs": [
    {
     "data": {
      "text/plain": [
       "<hierarchicalforecast.core.HierarchicalReconciliation at 0x30d6d9c90>"
      ]
     },
     "execution_count": 20,
     "metadata": {},
     "output_type": "execute_result"
    }
   ],
   "source": [
    "# generar instancia de conciliador (point - cross sectional data)\n",
    "hrec = HierarchicalReconciliation(reconcilers = reconcilers)\n",
    "hrec"
   ]
  },
  {
   "cell_type": "code",
   "execution_count": 21,
   "id": "cfb4a33c-cfc2-444a-b296-dd5c24c8cd6a",
   "metadata": {},
   "outputs": [],
   "source": [
    "# realizar conciliacion data cross sectional\n",
    "Y_rec_df_cs = hrec.reconcile(Y_hat_df = Y_hat_df_cs, # data forecasteada\n",
    "                             Y_df = Y_fitted_df_cs, # data train con valores y_true, y_pred\n",
    "                             S = S_df_cs, \n",
    "                             tags = tags_cs\n",
    "                            )"
   ]
  },
  {
   "cell_type": "code",
   "execution_count": 22,
   "id": "83a47a17-0da4-4934-869f-ec5490218d64",
   "metadata": {},
   "outputs": [
    {
     "data": {
      "text/html": [
       "<div>\n",
       "<style scoped>\n",
       "    .dataframe tbody tr th:only-of-type {\n",
       "        vertical-align: middle;\n",
       "    }\n",
       "\n",
       "    .dataframe tbody tr th {\n",
       "        vertical-align: top;\n",
       "    }\n",
       "\n",
       "    .dataframe thead th {\n",
       "        text-align: right;\n",
       "    }\n",
       "</style>\n",
       "<table border=\"1\" class=\"dataframe\">\n",
       "  <thead>\n",
       "    <tr style=\"text-align: right;\">\n",
       "      <th></th>\n",
       "      <th>unique_id</th>\n",
       "      <th>ds</th>\n",
       "      <th>AutoETS</th>\n",
       "      <th>AutoETS/BottomUp</th>\n",
       "      <th>AutoETS/MinTrace_method-mint_shrink</th>\n",
       "      <th>AutoETS/MinTrace_method-ols</th>\n",
       "    </tr>\n",
       "  </thead>\n",
       "  <tbody>\n",
       "    <tr>\n",
       "      <th>0</th>\n",
       "      <td>Australia</td>\n",
       "      <td>2016-01-01</td>\n",
       "      <td>25990.068004</td>\n",
       "      <td>24381.672902</td>\n",
       "      <td>25427.793552</td>\n",
       "      <td>25894.419896</td>\n",
       "    </tr>\n",
       "    <tr>\n",
       "      <th>1</th>\n",
       "      <td>Australia</td>\n",
       "      <td>2016-04-01</td>\n",
       "      <td>24458.490282</td>\n",
       "      <td>22903.194015</td>\n",
       "      <td>23913.800914</td>\n",
       "      <td>24357.231461</td>\n",
       "    </tr>\n",
       "    <tr>\n",
       "      <th>2</th>\n",
       "      <td>Australia</td>\n",
       "      <td>2016-07-01</td>\n",
       "      <td>23974.055984</td>\n",
       "      <td>22411.401316</td>\n",
       "      <td>23428.540858</td>\n",
       "      <td>23865.928094</td>\n",
       "    </tr>\n",
       "  </tbody>\n",
       "</table>\n",
       "</div>"
      ],
      "text/plain": [
       "   unique_id         ds       AutoETS  AutoETS/BottomUp  \\\n",
       "0  Australia 2016-01-01  25990.068004      24381.672902   \n",
       "1  Australia 2016-04-01  24458.490282      22903.194015   \n",
       "2  Australia 2016-07-01  23974.055984      22411.401316   \n",
       "\n",
       "   AutoETS/MinTrace_method-mint_shrink  AutoETS/MinTrace_method-ols  \n",
       "0                         25427.793552                 25894.419896  \n",
       "1                         23913.800914                 24357.231461  \n",
       "2                         23428.540858                 23865.928094  "
      ]
     },
     "execution_count": 22,
     "metadata": {},
     "output_type": "execute_result"
    }
   ],
   "source": [
    "Y_rec_df_cs.head(3)"
   ]
  },
  {
   "cell_type": "code",
   "execution_count": null,
   "id": "aa9e38a6-208d-4447-a18b-abd6271e54d5",
   "metadata": {},
   "outputs": [],
   "source": []
  },
  {
   "cell_type": "markdown",
   "id": "ab23ffba-ac6f-4ba6-ab4e-7be49329e2b9",
   "metadata": {},
   "source": [
    "### 6. Validar que se cumple la conservación del volumen (ojo el cálculo realizado es el mismo encontrado en el notebook de SOLO conciliación geográfica)"
   ]
  },
  {
   "cell_type": "code",
   "execution_count": 23,
   "id": "9bd6d129-7553-4ff7-943a-8f7aa368e3f7",
   "metadata": {},
   "outputs": [
    {
     "data": {
      "text/plain": [
       "['Australia']"
      ]
     },
     "execution_count": 23,
     "metadata": {},
     "output_type": "execute_result"
    }
   ],
   "source": [
    "# obtener las series de \"Country\"\n",
    "list_series_country = tags_cs['Country'].tolist()\n",
    "list_series_country"
   ]
  },
  {
   "cell_type": "code",
   "execution_count": 24,
   "id": "ffb53802-0e7d-462f-abd2-531de3885f7f",
   "metadata": {},
   "outputs": [
    {
     "data": {
      "text/plain": [
       "304"
      ]
     },
     "execution_count": 24,
     "metadata": {},
     "output_type": "execute_result"
    }
   ],
   "source": [
    "# obtener las series 'Country/State/Region/Purpose' (EL NIVEL DE MAYOR DESAGREGACIÓN DEL FORECAST)\n",
    "list_series_all_desagregacion = tags_cs['Country/State/Region/Purpose'].tolist()\n",
    "len(list_series_all_desagregacion)"
   ]
  },
  {
   "cell_type": "code",
   "execution_count": 25,
   "id": "6d780e0c-7eda-44d4-9392-b2078357dc36",
   "metadata": {},
   "outputs": [],
   "source": [
    "# definir fecha de fcst para evaluar las diferentes agregaciones geográficas\n",
    "fecha_example_filter = '2016-01-01'"
   ]
  },
  {
   "cell_type": "code",
   "execution_count": 26,
   "id": "0e06078a-859b-4745-9986-681e7008bec5",
   "metadata": {},
   "outputs": [
    {
     "data": {
      "text/html": [
       "<div>\n",
       "<style scoped>\n",
       "    .dataframe tbody tr th:only-of-type {\n",
       "        vertical-align: middle;\n",
       "    }\n",
       "\n",
       "    .dataframe tbody tr th {\n",
       "        vertical-align: top;\n",
       "    }\n",
       "\n",
       "    .dataframe thead th {\n",
       "        text-align: right;\n",
       "    }\n",
       "</style>\n",
       "<table border=\"1\" class=\"dataframe\">\n",
       "  <thead>\n",
       "    <tr style=\"text-align: right;\">\n",
       "      <th></th>\n",
       "      <th>unique_id</th>\n",
       "      <th>ds</th>\n",
       "      <th>AutoETS</th>\n",
       "      <th>AutoETS/BottomUp</th>\n",
       "      <th>AutoETS/MinTrace_method-mint_shrink</th>\n",
       "      <th>AutoETS/MinTrace_method-ols</th>\n",
       "    </tr>\n",
       "  </thead>\n",
       "  <tbody>\n",
       "    <tr>\n",
       "      <th>0</th>\n",
       "      <td>Australia</td>\n",
       "      <td>2016-01-01</td>\n",
       "      <td>25990.068004</td>\n",
       "      <td>24381.672902</td>\n",
       "      <td>25427.793552</td>\n",
       "      <td>25894.419896</td>\n",
       "    </tr>\n",
       "  </tbody>\n",
       "</table>\n",
       "</div>"
      ],
      "text/plain": [
       "   unique_id         ds       AutoETS  AutoETS/BottomUp  \\\n",
       "0  Australia 2016-01-01  25990.068004      24381.672902   \n",
       "\n",
       "   AutoETS/MinTrace_method-mint_shrink  AutoETS/MinTrace_method-ols  \n",
       "0                         25427.793552                 25894.419896  "
      ]
     },
     "execution_count": 26,
     "metadata": {},
     "output_type": "execute_result"
    }
   ],
   "source": [
    "# filtrar forecast país para una fecha en específico (para comparar vs la suma del forecast cada state por separado y luego sumándolo)\n",
    "mask_example_country = (Y_rec_df_cs['unique_id'].isin(list_series_country)) & (Y_rec_df_cs['ds'] == fecha_example_filter)\n",
    "Y_rec_df_cs[mask_example_country]"
   ]
  },
  {
   "cell_type": "code",
   "execution_count": 27,
   "id": "cdc214fd-513d-4a51-a33f-dca4dde5c721",
   "metadata": {},
   "outputs": [
    {
     "data": {
      "text/html": [
       "<div>\n",
       "<style scoped>\n",
       "    .dataframe tbody tr th:only-of-type {\n",
       "        vertical-align: middle;\n",
       "    }\n",
       "\n",
       "    .dataframe tbody tr th {\n",
       "        vertical-align: top;\n",
       "    }\n",
       "\n",
       "    .dataframe thead th {\n",
       "        text-align: right;\n",
       "    }\n",
       "</style>\n",
       "<table border=\"1\" class=\"dataframe\">\n",
       "  <thead>\n",
       "    <tr style=\"text-align: right;\">\n",
       "      <th></th>\n",
       "      <th>AutoETS</th>\n",
       "      <th>AutoETS/BottomUp</th>\n",
       "      <th>AutoETS/MinTrace_method-mint_shrink</th>\n",
       "      <th>AutoETS/MinTrace_method-ols</th>\n",
       "    </tr>\n",
       "  </thead>\n",
       "  <tbody>\n",
       "    <tr>\n",
       "      <th>sum_result</th>\n",
       "      <td>24381.672902</td>\n",
       "      <td>24381.672902</td>\n",
       "      <td>25427.793552</td>\n",
       "      <td>25894.419896</td>\n",
       "    </tr>\n",
       "  </tbody>\n",
       "</table>\n",
       "</div>"
      ],
      "text/plain": [
       "                 AutoETS  AutoETS/BottomUp  \\\n",
       "sum_result  24381.672902      24381.672902   \n",
       "\n",
       "            AutoETS/MinTrace_method-mint_shrink  AutoETS/MinTrace_method-ols  \n",
       "sum_result                         25427.793552                 25894.419896  "
      ]
     },
     "execution_count": 27,
     "metadata": {},
     "output_type": "execute_result"
    }
   ],
   "source": [
    "# FILTRAR FORECAST DEL NIVEL DE MAYOR DESEGREGACION Y SUMAR HASTA LLEGAR A COUNTRY. validar que bottom/up sumó desde el nivel de mayor desagregacion\n",
    "mask_example_all_desagregation = (Y_rec_df_cs['unique_id'].isin(list_series_all_desagregacion)) & (Y_rec_df_cs['ds'] == fecha_example_filter)\n",
    "Y_rec_df_example = Y_rec_df_cs[mask_example_all_desagregation]\n",
    "\n",
    "cols_to_sum = ['AutoETS', 'AutoETS/BottomUp', 'AutoETS/MinTrace_method-mint_shrink', 'AutoETS/MinTrace_method-ols']\n",
    "Y_rec_df_example[cols_to_sum].sum(axis=0).to_frame(name='sum_result').T"
   ]
  },
  {
   "cell_type": "code",
   "execution_count": 28,
   "id": "693d9b73-3cfa-4df3-b2ee-201e10da313e",
   "metadata": {},
   "outputs": [],
   "source": [
    "# SE VALIDA QUE\n",
    "# la suma del fsct del mayor grado de desagracion \"24381.672902\" es igual a la consolidacion bottom/up (evaluando volumen a total pais)\n",
    "# luego de consolidar el volumen del fcst total_país es igual a la suman de todos los forecast individuales hasta llegar a nivel país\n",
    "# (lo esperado, que se conserve el volumen, y luego al evaluar métricas debería dar mejores resultados)"
   ]
  },
  {
   "cell_type": "code",
   "execution_count": null,
   "id": "8b87b943-c858-4295-9e18-51d468c7c83f",
   "metadata": {},
   "outputs": [],
   "source": []
  },
  {
   "cell_type": "markdown",
   "id": "9e5283e1-587f-4d82-a8c8-d84c79e3f955",
   "metadata": {},
   "source": [
    "### 7. Temporal reconciliation\n",
    "LUEGO DE HACER CONSOLIDACIÓN GEOGRÁFICA, SE PROCEDE A HACER LA CONSOLIDACIÓN TEMPORAL\n",
    "\n",
    "**OJO, SE TIENE QUE GENERAR LA DATA CON TODAS LAS AGREGACIONES TEMPORALES Y LUEGO SE HACE UNA CONSOLIDACION \"DOBLE\" CONSOLIDAR GEOGRÁRICA Y TEMPORALMENTE**"
   ]
  },
  {
   "cell_type": "markdown",
   "id": "27746ad6-055e-4ee5-a227-c61a32685e3b",
   "metadata": {},
   "source": [
    "The spec is a dictionary in which the keys are the name of the aggregation and the value is the amount of bottom-level timesteps that should be aggregated in that aggregation. For example, year consists of 12 months, so we define a key, value pair \"yearly\":12. We can do something similar for other aggregations that we are interested in."
   ]
  },
  {
   "cell_type": "code",
   "execution_count": 29,
   "id": "a24c2b63-f5e5-47f0-a7a3-fe570e8edc11",
   "metadata": {},
   "outputs": [
    {
     "data": {
      "text/plain": [
       "{'year': 4, 'semiannual': 2, 'quarter': 1}"
      ]
     },
     "execution_count": 29,
     "metadata": {},
     "output_type": "execute_result"
    }
   ],
   "source": [
    "# diccionario de cuantas observaciones se deben de tomar para obtener la agregacion temporal \n",
    "# (ej data trimestral, tomando 4 datos se tiene anual)\n",
    "spec_temporal = {\"year\": 4, \"semiannual\": 2, \"quarter\": 1}\n",
    "spec_temporal"
   ]
  },
  {
   "cell_type": "code",
   "execution_count": 30,
   "id": "4dbdfaeb-02dd-41d6-85af-c7da091e7eeb",
   "metadata": {},
   "outputs": [
    {
     "data": {
      "text/html": [
       "<div>\n",
       "<style scoped>\n",
       "    .dataframe tbody tr th:only-of-type {\n",
       "        vertical-align: middle;\n",
       "    }\n",
       "\n",
       "    .dataframe tbody tr th {\n",
       "        vertical-align: top;\n",
       "    }\n",
       "\n",
       "    .dataframe thead th {\n",
       "        text-align: right;\n",
       "    }\n",
       "</style>\n",
       "<table border=\"1\" class=\"dataframe\">\n",
       "  <thead>\n",
       "    <tr style=\"text-align: right;\">\n",
       "      <th></th>\n",
       "      <th>unique_id</th>\n",
       "      <th>ds</th>\n",
       "      <th>y</th>\n",
       "    </tr>\n",
       "  </thead>\n",
       "  <tbody>\n",
       "    <tr>\n",
       "      <th>0</th>\n",
       "      <td>Australia</td>\n",
       "      <td>1998-01-01</td>\n",
       "      <td>23182.197269</td>\n",
       "    </tr>\n",
       "    <tr>\n",
       "      <th>1</th>\n",
       "      <td>Australia</td>\n",
       "      <td>1998-04-01</td>\n",
       "      <td>20323.380067</td>\n",
       "    </tr>\n",
       "    <tr>\n",
       "      <th>2</th>\n",
       "      <td>Australia</td>\n",
       "      <td>1998-07-01</td>\n",
       "      <td>19826.640511</td>\n",
       "    </tr>\n",
       "    <tr>\n",
       "      <th>3</th>\n",
       "      <td>Australia</td>\n",
       "      <td>1998-10-01</td>\n",
       "      <td>20830.129891</td>\n",
       "    </tr>\n",
       "    <tr>\n",
       "      <th>4</th>\n",
       "      <td>Australia</td>\n",
       "      <td>1999-01-01</td>\n",
       "      <td>22087.353380</td>\n",
       "    </tr>\n",
       "    <tr>\n",
       "      <th>...</th>\n",
       "      <td>...</td>\n",
       "      <td>...</td>\n",
       "      <td>...</td>\n",
       "    </tr>\n",
       "    <tr>\n",
       "      <th>33987</th>\n",
       "      <td>Australia/Western Australia/Experience Perth/V...</td>\n",
       "      <td>2014-10-01</td>\n",
       "      <td>381.616236</td>\n",
       "    </tr>\n",
       "    <tr>\n",
       "      <th>33988</th>\n",
       "      <td>Australia/Western Australia/Experience Perth/V...</td>\n",
       "      <td>2015-01-01</td>\n",
       "      <td>525.988913</td>\n",
       "    </tr>\n",
       "    <tr>\n",
       "      <th>33989</th>\n",
       "      <td>Australia/Western Australia/Experience Perth/V...</td>\n",
       "      <td>2015-04-01</td>\n",
       "      <td>286.874141</td>\n",
       "    </tr>\n",
       "    <tr>\n",
       "      <th>33990</th>\n",
       "      <td>Australia/Western Australia/Experience Perth/V...</td>\n",
       "      <td>2015-07-01</td>\n",
       "      <td>439.624378</td>\n",
       "    </tr>\n",
       "    <tr>\n",
       "      <th>33991</th>\n",
       "      <td>Australia/Western Australia/Experience Perth/V...</td>\n",
       "      <td>2015-10-01</td>\n",
       "      <td>406.907362</td>\n",
       "    </tr>\n",
       "  </tbody>\n",
       "</table>\n",
       "<p>30600 rows × 3 columns</p>\n",
       "</div>"
      ],
      "text/plain": [
       "                                               unique_id         ds  \\\n",
       "0                                              Australia 1998-01-01   \n",
       "1                                              Australia 1998-04-01   \n",
       "2                                              Australia 1998-07-01   \n",
       "3                                              Australia 1998-10-01   \n",
       "4                                              Australia 1999-01-01   \n",
       "...                                                  ...        ...   \n",
       "33987  Australia/Western Australia/Experience Perth/V... 2014-10-01   \n",
       "33988  Australia/Western Australia/Experience Perth/V... 2015-01-01   \n",
       "33989  Australia/Western Australia/Experience Perth/V... 2015-04-01   \n",
       "33990  Australia/Western Australia/Experience Perth/V... 2015-07-01   \n",
       "33991  Australia/Western Australia/Experience Perth/V... 2015-10-01   \n",
       "\n",
       "                  y  \n",
       "0      23182.197269  \n",
       "1      20323.380067  \n",
       "2      19826.640511  \n",
       "3      20830.129891  \n",
       "4      22087.353380  \n",
       "...             ...  \n",
       "33987    381.616236  \n",
       "33988    525.988913  \n",
       "33989    286.874141  \n",
       "33990    439.624378  \n",
       "33991    406.907362  \n",
       "\n",
       "[30600 rows x 3 columns]"
      ]
     },
     "execution_count": 30,
     "metadata": {},
     "output_type": "execute_result"
    }
   ],
   "source": [
    "# print data input - DATA ya agregada/expandida a todos los grupos geográficos\n",
    "Y_train_df_cs"
   ]
  },
  {
   "cell_type": "code",
   "execution_count": 31,
   "id": "aeaff82d-5782-435b-b607-c679635b8883",
   "metadata": {},
   "outputs": [],
   "source": [
    "# realizar consolidacion temporal (de la data todos los niveles geográficos, ahora también se expande a todas las agregaciones temporales)\n",
    "Y_train_df_te, S_train_df_te, tags_te_train = aggregate_temporal(df = Y_train_df_cs, spec = spec_temporal)\n",
    "Y_test_df_te, S_test_df_te, tags_te_test = aggregate_temporal(df = Y_test_df_cs, spec = spec_temporal)"
   ]
  },
  {
   "cell_type": "code",
   "execution_count": 32,
   "id": "006aa60c-5a7e-4054-a195-3a4b8b12ce69",
   "metadata": {},
   "outputs": [
    {
     "data": {
      "text/html": [
       "<div>\n",
       "<style scoped>\n",
       "    .dataframe tbody tr th:only-of-type {\n",
       "        vertical-align: middle;\n",
       "    }\n",
       "\n",
       "    .dataframe tbody tr th {\n",
       "        vertical-align: top;\n",
       "    }\n",
       "\n",
       "    .dataframe thead th {\n",
       "        text-align: right;\n",
       "    }\n",
       "</style>\n",
       "<table border=\"1\" class=\"dataframe\">\n",
       "  <thead>\n",
       "    <tr style=\"text-align: right;\">\n",
       "      <th></th>\n",
       "      <th>temporal_id</th>\n",
       "      <th>unique_id</th>\n",
       "      <th>ds</th>\n",
       "      <th>y</th>\n",
       "    </tr>\n",
       "  </thead>\n",
       "  <tbody>\n",
       "    <tr>\n",
       "      <th>0</th>\n",
       "      <td>year-1</td>\n",
       "      <td>Australia</td>\n",
       "      <td>2016-10-01</td>\n",
       "      <td>101484.586551</td>\n",
       "    </tr>\n",
       "    <tr>\n",
       "      <th>1</th>\n",
       "      <td>year-2</td>\n",
       "      <td>Australia</td>\n",
       "      <td>2017-10-01</td>\n",
       "      <td>107709.864650</td>\n",
       "    </tr>\n",
       "    <tr>\n",
       "      <th>2</th>\n",
       "      <td>year-1</td>\n",
       "      <td>Australia/ACT</td>\n",
       "      <td>2016-10-01</td>\n",
       "      <td>2457.401367</td>\n",
       "    </tr>\n",
       "    <tr>\n",
       "      <th>3</th>\n",
       "      <td>year-2</td>\n",
       "      <td>Australia/ACT</td>\n",
       "      <td>2017-10-01</td>\n",
       "      <td>2734.748452</td>\n",
       "    </tr>\n",
       "    <tr>\n",
       "      <th>4</th>\n",
       "      <td>year-1</td>\n",
       "      <td>Australia/ACT/Business</td>\n",
       "      <td>2016-10-01</td>\n",
       "      <td>754.139245</td>\n",
       "    </tr>\n",
       "    <tr>\n",
       "      <th>...</th>\n",
       "      <td>...</td>\n",
       "      <td>...</td>\n",
       "      <td>...</td>\n",
       "      <td>...</td>\n",
       "    </tr>\n",
       "    <tr>\n",
       "      <th>5945</th>\n",
       "      <td>quarter-4</td>\n",
       "      <td>Australia/Western Australia/Visiting</td>\n",
       "      <td>2016-10-01</td>\n",
       "      <td>787.030391</td>\n",
       "    </tr>\n",
       "    <tr>\n",
       "      <th>5946</th>\n",
       "      <td>quarter-5</td>\n",
       "      <td>Australia/Western Australia/Visiting</td>\n",
       "      <td>2017-01-01</td>\n",
       "      <td>702.777251</td>\n",
       "    </tr>\n",
       "    <tr>\n",
       "      <th>5947</th>\n",
       "      <td>quarter-6</td>\n",
       "      <td>Australia/Western Australia/Visiting</td>\n",
       "      <td>2017-04-01</td>\n",
       "      <td>642.516090</td>\n",
       "    </tr>\n",
       "    <tr>\n",
       "      <th>5948</th>\n",
       "      <td>quarter-7</td>\n",
       "      <td>Australia/Western Australia/Visiting</td>\n",
       "      <td>2017-07-01</td>\n",
       "      <td>646.521395</td>\n",
       "    </tr>\n",
       "    <tr>\n",
       "      <th>5949</th>\n",
       "      <td>quarter-8</td>\n",
       "      <td>Australia/Western Australia/Visiting</td>\n",
       "      <td>2017-10-01</td>\n",
       "      <td>813.184778</td>\n",
       "    </tr>\n",
       "  </tbody>\n",
       "</table>\n",
       "<p>5950 rows × 4 columns</p>\n",
       "</div>"
      ],
      "text/plain": [
       "     temporal_id                             unique_id         ds  \\\n",
       "0         year-1                             Australia 2016-10-01   \n",
       "1         year-2                             Australia 2017-10-01   \n",
       "2         year-1                         Australia/ACT 2016-10-01   \n",
       "3         year-2                         Australia/ACT 2017-10-01   \n",
       "4         year-1                Australia/ACT/Business 2016-10-01   \n",
       "...          ...                                   ...        ...   \n",
       "5945   quarter-4  Australia/Western Australia/Visiting 2016-10-01   \n",
       "5946   quarter-5  Australia/Western Australia/Visiting 2017-01-01   \n",
       "5947   quarter-6  Australia/Western Australia/Visiting 2017-04-01   \n",
       "5948   quarter-7  Australia/Western Australia/Visiting 2017-07-01   \n",
       "5949   quarter-8  Australia/Western Australia/Visiting 2017-10-01   \n",
       "\n",
       "                  y  \n",
       "0     101484.586551  \n",
       "1     107709.864650  \n",
       "2       2457.401367  \n",
       "3       2734.748452  \n",
       "4        754.139245  \n",
       "...             ...  \n",
       "5945     787.030391  \n",
       "5946     702.777251  \n",
       "5947     642.516090  \n",
       "5948     646.521395  \n",
       "5949     813.184778  \n",
       "\n",
       "[5950 rows x 4 columns]"
      ]
     },
     "execution_count": 32,
     "metadata": {},
     "output_type": "execute_result"
    }
   ],
   "source": [
    "Y_test_df_te"
   ]
  },
  {
   "cell_type": "code",
   "execution_count": 33,
   "id": "9d15648a-32ba-4b2a-a060-527c390263ea",
   "metadata": {},
   "outputs": [
    {
     "data": {
      "text/html": [
       "<div>\n",
       "<style scoped>\n",
       "    .dataframe tbody tr th:only-of-type {\n",
       "        vertical-align: middle;\n",
       "    }\n",
       "\n",
       "    .dataframe tbody tr th {\n",
       "        vertical-align: top;\n",
       "    }\n",
       "\n",
       "    .dataframe thead th {\n",
       "        text-align: right;\n",
       "    }\n",
       "</style>\n",
       "<table border=\"1\" class=\"dataframe\">\n",
       "  <thead>\n",
       "    <tr style=\"text-align: right;\">\n",
       "      <th></th>\n",
       "      <th>temporal_id</th>\n",
       "      <th>quarter-1</th>\n",
       "      <th>quarter-2</th>\n",
       "      <th>quarter-3</th>\n",
       "      <th>quarter-4</th>\n",
       "      <th>quarter-5</th>\n",
       "      <th>quarter-6</th>\n",
       "      <th>quarter-7</th>\n",
       "      <th>quarter-8</th>\n",
       "      <th>quarter-9</th>\n",
       "      <th>...</th>\n",
       "      <th>quarter-63</th>\n",
       "      <th>quarter-64</th>\n",
       "      <th>quarter-65</th>\n",
       "      <th>quarter-66</th>\n",
       "      <th>quarter-67</th>\n",
       "      <th>quarter-68</th>\n",
       "      <th>quarter-69</th>\n",
       "      <th>quarter-70</th>\n",
       "      <th>quarter-71</th>\n",
       "      <th>quarter-72</th>\n",
       "    </tr>\n",
       "  </thead>\n",
       "  <tbody>\n",
       "    <tr>\n",
       "      <th>0</th>\n",
       "      <td>year-1</td>\n",
       "      <td>1.0</td>\n",
       "      <td>1.0</td>\n",
       "      <td>1.0</td>\n",
       "      <td>1.0</td>\n",
       "      <td>0.0</td>\n",
       "      <td>0.0</td>\n",
       "      <td>0.0</td>\n",
       "      <td>0.0</td>\n",
       "      <td>0.0</td>\n",
       "      <td>...</td>\n",
       "      <td>0.0</td>\n",
       "      <td>0.0</td>\n",
       "      <td>0.0</td>\n",
       "      <td>0.0</td>\n",
       "      <td>0.0</td>\n",
       "      <td>0.0</td>\n",
       "      <td>0.0</td>\n",
       "      <td>0.0</td>\n",
       "      <td>0.0</td>\n",
       "      <td>0.0</td>\n",
       "    </tr>\n",
       "    <tr>\n",
       "      <th>1</th>\n",
       "      <td>year-2</td>\n",
       "      <td>0.0</td>\n",
       "      <td>0.0</td>\n",
       "      <td>0.0</td>\n",
       "      <td>0.0</td>\n",
       "      <td>1.0</td>\n",
       "      <td>1.0</td>\n",
       "      <td>1.0</td>\n",
       "      <td>1.0</td>\n",
       "      <td>0.0</td>\n",
       "      <td>...</td>\n",
       "      <td>0.0</td>\n",
       "      <td>0.0</td>\n",
       "      <td>0.0</td>\n",
       "      <td>0.0</td>\n",
       "      <td>0.0</td>\n",
       "      <td>0.0</td>\n",
       "      <td>0.0</td>\n",
       "      <td>0.0</td>\n",
       "      <td>0.0</td>\n",
       "      <td>0.0</td>\n",
       "    </tr>\n",
       "    <tr>\n",
       "      <th>2</th>\n",
       "      <td>year-3</td>\n",
       "      <td>0.0</td>\n",
       "      <td>0.0</td>\n",
       "      <td>0.0</td>\n",
       "      <td>0.0</td>\n",
       "      <td>0.0</td>\n",
       "      <td>0.0</td>\n",
       "      <td>0.0</td>\n",
       "      <td>0.0</td>\n",
       "      <td>1.0</td>\n",
       "      <td>...</td>\n",
       "      <td>0.0</td>\n",
       "      <td>0.0</td>\n",
       "      <td>0.0</td>\n",
       "      <td>0.0</td>\n",
       "      <td>0.0</td>\n",
       "      <td>0.0</td>\n",
       "      <td>0.0</td>\n",
       "      <td>0.0</td>\n",
       "      <td>0.0</td>\n",
       "      <td>0.0</td>\n",
       "    </tr>\n",
       "    <tr>\n",
       "      <th>3</th>\n",
       "      <td>year-4</td>\n",
       "      <td>0.0</td>\n",
       "      <td>0.0</td>\n",
       "      <td>0.0</td>\n",
       "      <td>0.0</td>\n",
       "      <td>0.0</td>\n",
       "      <td>0.0</td>\n",
       "      <td>0.0</td>\n",
       "      <td>0.0</td>\n",
       "      <td>0.0</td>\n",
       "      <td>...</td>\n",
       "      <td>0.0</td>\n",
       "      <td>0.0</td>\n",
       "      <td>0.0</td>\n",
       "      <td>0.0</td>\n",
       "      <td>0.0</td>\n",
       "      <td>0.0</td>\n",
       "      <td>0.0</td>\n",
       "      <td>0.0</td>\n",
       "      <td>0.0</td>\n",
       "      <td>0.0</td>\n",
       "    </tr>\n",
       "    <tr>\n",
       "      <th>4</th>\n",
       "      <td>year-5</td>\n",
       "      <td>0.0</td>\n",
       "      <td>0.0</td>\n",
       "      <td>0.0</td>\n",
       "      <td>0.0</td>\n",
       "      <td>0.0</td>\n",
       "      <td>0.0</td>\n",
       "      <td>0.0</td>\n",
       "      <td>0.0</td>\n",
       "      <td>0.0</td>\n",
       "      <td>...</td>\n",
       "      <td>0.0</td>\n",
       "      <td>0.0</td>\n",
       "      <td>0.0</td>\n",
       "      <td>0.0</td>\n",
       "      <td>0.0</td>\n",
       "      <td>0.0</td>\n",
       "      <td>0.0</td>\n",
       "      <td>0.0</td>\n",
       "      <td>0.0</td>\n",
       "      <td>0.0</td>\n",
       "    </tr>\n",
       "    <tr>\n",
       "      <th>...</th>\n",
       "      <td>...</td>\n",
       "      <td>...</td>\n",
       "      <td>...</td>\n",
       "      <td>...</td>\n",
       "      <td>...</td>\n",
       "      <td>...</td>\n",
       "      <td>...</td>\n",
       "      <td>...</td>\n",
       "      <td>...</td>\n",
       "      <td>...</td>\n",
       "      <td>...</td>\n",
       "      <td>...</td>\n",
       "      <td>...</td>\n",
       "      <td>...</td>\n",
       "      <td>...</td>\n",
       "      <td>...</td>\n",
       "      <td>...</td>\n",
       "      <td>...</td>\n",
       "      <td>...</td>\n",
       "      <td>...</td>\n",
       "      <td>...</td>\n",
       "    </tr>\n",
       "    <tr>\n",
       "      <th>121</th>\n",
       "      <td>quarter-68</td>\n",
       "      <td>0.0</td>\n",
       "      <td>0.0</td>\n",
       "      <td>0.0</td>\n",
       "      <td>0.0</td>\n",
       "      <td>0.0</td>\n",
       "      <td>0.0</td>\n",
       "      <td>0.0</td>\n",
       "      <td>0.0</td>\n",
       "      <td>0.0</td>\n",
       "      <td>...</td>\n",
       "      <td>0.0</td>\n",
       "      <td>0.0</td>\n",
       "      <td>0.0</td>\n",
       "      <td>0.0</td>\n",
       "      <td>0.0</td>\n",
       "      <td>1.0</td>\n",
       "      <td>0.0</td>\n",
       "      <td>0.0</td>\n",
       "      <td>0.0</td>\n",
       "      <td>0.0</td>\n",
       "    </tr>\n",
       "    <tr>\n",
       "      <th>122</th>\n",
       "      <td>quarter-69</td>\n",
       "      <td>0.0</td>\n",
       "      <td>0.0</td>\n",
       "      <td>0.0</td>\n",
       "      <td>0.0</td>\n",
       "      <td>0.0</td>\n",
       "      <td>0.0</td>\n",
       "      <td>0.0</td>\n",
       "      <td>0.0</td>\n",
       "      <td>0.0</td>\n",
       "      <td>...</td>\n",
       "      <td>0.0</td>\n",
       "      <td>0.0</td>\n",
       "      <td>0.0</td>\n",
       "      <td>0.0</td>\n",
       "      <td>0.0</td>\n",
       "      <td>0.0</td>\n",
       "      <td>1.0</td>\n",
       "      <td>0.0</td>\n",
       "      <td>0.0</td>\n",
       "      <td>0.0</td>\n",
       "    </tr>\n",
       "    <tr>\n",
       "      <th>123</th>\n",
       "      <td>quarter-70</td>\n",
       "      <td>0.0</td>\n",
       "      <td>0.0</td>\n",
       "      <td>0.0</td>\n",
       "      <td>0.0</td>\n",
       "      <td>0.0</td>\n",
       "      <td>0.0</td>\n",
       "      <td>0.0</td>\n",
       "      <td>0.0</td>\n",
       "      <td>0.0</td>\n",
       "      <td>...</td>\n",
       "      <td>0.0</td>\n",
       "      <td>0.0</td>\n",
       "      <td>0.0</td>\n",
       "      <td>0.0</td>\n",
       "      <td>0.0</td>\n",
       "      <td>0.0</td>\n",
       "      <td>0.0</td>\n",
       "      <td>1.0</td>\n",
       "      <td>0.0</td>\n",
       "      <td>0.0</td>\n",
       "    </tr>\n",
       "    <tr>\n",
       "      <th>124</th>\n",
       "      <td>quarter-71</td>\n",
       "      <td>0.0</td>\n",
       "      <td>0.0</td>\n",
       "      <td>0.0</td>\n",
       "      <td>0.0</td>\n",
       "      <td>0.0</td>\n",
       "      <td>0.0</td>\n",
       "      <td>0.0</td>\n",
       "      <td>0.0</td>\n",
       "      <td>0.0</td>\n",
       "      <td>...</td>\n",
       "      <td>0.0</td>\n",
       "      <td>0.0</td>\n",
       "      <td>0.0</td>\n",
       "      <td>0.0</td>\n",
       "      <td>0.0</td>\n",
       "      <td>0.0</td>\n",
       "      <td>0.0</td>\n",
       "      <td>0.0</td>\n",
       "      <td>1.0</td>\n",
       "      <td>0.0</td>\n",
       "    </tr>\n",
       "    <tr>\n",
       "      <th>125</th>\n",
       "      <td>quarter-72</td>\n",
       "      <td>0.0</td>\n",
       "      <td>0.0</td>\n",
       "      <td>0.0</td>\n",
       "      <td>0.0</td>\n",
       "      <td>0.0</td>\n",
       "      <td>0.0</td>\n",
       "      <td>0.0</td>\n",
       "      <td>0.0</td>\n",
       "      <td>0.0</td>\n",
       "      <td>...</td>\n",
       "      <td>0.0</td>\n",
       "      <td>0.0</td>\n",
       "      <td>0.0</td>\n",
       "      <td>0.0</td>\n",
       "      <td>0.0</td>\n",
       "      <td>0.0</td>\n",
       "      <td>0.0</td>\n",
       "      <td>0.0</td>\n",
       "      <td>0.0</td>\n",
       "      <td>1.0</td>\n",
       "    </tr>\n",
       "  </tbody>\n",
       "</table>\n",
       "<p>126 rows × 73 columns</p>\n",
       "</div>"
      ],
      "text/plain": [
       "    temporal_id  quarter-1  quarter-2  quarter-3  quarter-4  quarter-5  \\\n",
       "0        year-1        1.0        1.0        1.0        1.0        0.0   \n",
       "1        year-2        0.0        0.0        0.0        0.0        1.0   \n",
       "2        year-3        0.0        0.0        0.0        0.0        0.0   \n",
       "3        year-4        0.0        0.0        0.0        0.0        0.0   \n",
       "4        year-5        0.0        0.0        0.0        0.0        0.0   \n",
       "..          ...        ...        ...        ...        ...        ...   \n",
       "121  quarter-68        0.0        0.0        0.0        0.0        0.0   \n",
       "122  quarter-69        0.0        0.0        0.0        0.0        0.0   \n",
       "123  quarter-70        0.0        0.0        0.0        0.0        0.0   \n",
       "124  quarter-71        0.0        0.0        0.0        0.0        0.0   \n",
       "125  quarter-72        0.0        0.0        0.0        0.0        0.0   \n",
       "\n",
       "     quarter-6  quarter-7  quarter-8  quarter-9  ...  quarter-63  quarter-64  \\\n",
       "0          0.0        0.0        0.0        0.0  ...         0.0         0.0   \n",
       "1          1.0        1.0        1.0        0.0  ...         0.0         0.0   \n",
       "2          0.0        0.0        0.0        1.0  ...         0.0         0.0   \n",
       "3          0.0        0.0        0.0        0.0  ...         0.0         0.0   \n",
       "4          0.0        0.0        0.0        0.0  ...         0.0         0.0   \n",
       "..         ...        ...        ...        ...  ...         ...         ...   \n",
       "121        0.0        0.0        0.0        0.0  ...         0.0         0.0   \n",
       "122        0.0        0.0        0.0        0.0  ...         0.0         0.0   \n",
       "123        0.0        0.0        0.0        0.0  ...         0.0         0.0   \n",
       "124        0.0        0.0        0.0        0.0  ...         0.0         0.0   \n",
       "125        0.0        0.0        0.0        0.0  ...         0.0         0.0   \n",
       "\n",
       "     quarter-65  quarter-66  quarter-67  quarter-68  quarter-69  quarter-70  \\\n",
       "0           0.0         0.0         0.0         0.0         0.0         0.0   \n",
       "1           0.0         0.0         0.0         0.0         0.0         0.0   \n",
       "2           0.0         0.0         0.0         0.0         0.0         0.0   \n",
       "3           0.0         0.0         0.0         0.0         0.0         0.0   \n",
       "4           0.0         0.0         0.0         0.0         0.0         0.0   \n",
       "..          ...         ...         ...         ...         ...         ...   \n",
       "121         0.0         0.0         0.0         1.0         0.0         0.0   \n",
       "122         0.0         0.0         0.0         0.0         1.0         0.0   \n",
       "123         0.0         0.0         0.0         0.0         0.0         1.0   \n",
       "124         0.0         0.0         0.0         0.0         0.0         0.0   \n",
       "125         0.0         0.0         0.0         0.0         0.0         0.0   \n",
       "\n",
       "     quarter-71  quarter-72  \n",
       "0           0.0         0.0  \n",
       "1           0.0         0.0  \n",
       "2           0.0         0.0  \n",
       "3           0.0         0.0  \n",
       "4           0.0         0.0  \n",
       "..          ...         ...  \n",
       "121         0.0         0.0  \n",
       "122         0.0         0.0  \n",
       "123         0.0         0.0  \n",
       "124         1.0         0.0  \n",
       "125         0.0         1.0  \n",
       "\n",
       "[126 rows x 73 columns]"
      ]
     },
     "execution_count": 33,
     "metadata": {},
     "output_type": "execute_result"
    }
   ],
   "source": [
    "# ojo aunque ahora hayan más series geográficas la matriz S para agregacion temporal siendo siendo la misma \n",
    "# (existiendo más o menos series geográficas)\n",
    "S_train_df_te"
   ]
  },
  {
   "cell_type": "code",
   "execution_count": null,
   "id": "e7d64265-5b7a-4827-9dc9-34ac06a68b40",
   "metadata": {},
   "outputs": [],
   "source": []
  },
  {
   "cell_type": "markdown",
   "id": "df5c4c7b-f9d6-46e0-b5ce-0c03ab958b43",
   "metadata": {},
   "source": [
    "If you don’t have a test set available, as is usually the case when you’re making forecasts, it is necessary to create a future dataframe that holds the correct bottom-level unique_ids and timestamps so that they can be temporally aggregated. We can use the make_future_dataframe helper function for that."
   ]
  },
  {
   "cell_type": "code",
   "execution_count": 34,
   "id": "f6321629-23ad-4a5a-83ad-0feb3a84987f",
   "metadata": {},
   "outputs": [],
   "source": [
    "from hierarchicalforecast.utils import make_future_dataframe"
   ]
  },
  {
   "cell_type": "code",
   "execution_count": 35,
   "id": "13d6050a-d475-41c5-acab-b33f125e974e",
   "metadata": {},
   "outputs": [
    {
     "data": {
      "text/html": [
       "<div>\n",
       "<style scoped>\n",
       "    .dataframe tbody tr th:only-of-type {\n",
       "        vertical-align: middle;\n",
       "    }\n",
       "\n",
       "    .dataframe tbody tr th {\n",
       "        vertical-align: top;\n",
       "    }\n",
       "\n",
       "    .dataframe thead th {\n",
       "        text-align: right;\n",
       "    }\n",
       "</style>\n",
       "<table border=\"1\" class=\"dataframe\">\n",
       "  <thead>\n",
       "    <tr style=\"text-align: right;\">\n",
       "      <th></th>\n",
       "      <th>temporal_id</th>\n",
       "      <th>unique_id</th>\n",
       "      <th>ds</th>\n",
       "    </tr>\n",
       "  </thead>\n",
       "  <tbody>\n",
       "    <tr>\n",
       "      <th>0</th>\n",
       "      <td>year-1</td>\n",
       "      <td>Australia</td>\n",
       "      <td>2016-10-01</td>\n",
       "    </tr>\n",
       "    <tr>\n",
       "      <th>1</th>\n",
       "      <td>year-2</td>\n",
       "      <td>Australia</td>\n",
       "      <td>2017-10-01</td>\n",
       "    </tr>\n",
       "    <tr>\n",
       "      <th>2</th>\n",
       "      <td>year-1</td>\n",
       "      <td>Australia/ACT</td>\n",
       "      <td>2016-10-01</td>\n",
       "    </tr>\n",
       "  </tbody>\n",
       "</table>\n",
       "</div>"
      ],
      "text/plain": [
       "  temporal_id      unique_id         ds\n",
       "0      year-1      Australia 2016-10-01\n",
       "1      year-2      Australia 2017-10-01\n",
       "2      year-1  Australia/ACT 2016-10-01"
      ]
     },
     "execution_count": 35,
     "metadata": {},
     "output_type": "execute_result"
    }
   ],
   "source": [
    "Y_test_df_te_new = make_future_dataframe(Y_train_df_te, freq=\"QS\", h=horizon)\n",
    "Y_test_df_te_new, S_test_df_te_new, tags_te_test_new = aggregate_temporal(df=Y_test_df_te_new, spec=spec_temporal)\n",
    "Y_test_df_te_new.head(3)"
   ]
  },
  {
   "cell_type": "code",
   "execution_count": 36,
   "id": "e55e7729-5c9b-493e-bac1-7bfc66a59ce4",
   "metadata": {},
   "outputs": [
    {
     "data": {
      "text/plain": [
       "(5950, 3)"
      ]
     },
     "execution_count": 36,
     "metadata": {},
     "output_type": "execute_result"
    }
   ],
   "source": [
    "Y_test_df_te_new.shape"
   ]
  },
  {
   "cell_type": "code",
   "execution_count": null,
   "id": "eb9b2e58-51e2-4050-bbbf-4c955cad80a8",
   "metadata": {},
   "outputs": [],
   "source": []
  },
  {
   "cell_type": "markdown",
   "id": "becf6d47-bd55-4a54-93ef-c3de6fa0dd84",
   "metadata": {},
   "source": [
    "### 8. Computing base forecasts - FCST AGREGACION TEMPORAL (para todas las combinaciones geográficas, ahora también agregacion temporal - año/semestre/quarter)"
   ]
  },
  {
   "cell_type": "markdown",
   "id": "bad27f4b-169e-4e18-bde2-05d4cc42ad6d",
   "metadata": {},
   "source": [
    "**Note also that both frequency and horizon are different for each temporal aggregation. In this example, the lowest level has a quarterly frequency, and a horizon of 8 (constituting 2 years). The year aggregation thus has a yearly frequency with a horizon of 2.**"
   ]
  },
  {
   "cell_type": "code",
   "execution_count": 37,
   "id": "69404117-f4c9-44e2-988d-c0359d92593f",
   "metadata": {},
   "outputs": [],
   "source": [
    "Y_hat_dfs_te = []\n",
    "id_cols = [\"unique_id\", \"temporal_id\", \"ds\", \"y\"]\n",
    "# We will train a model for each temporal level\n",
    "for level, temporal_ids_train in tags_te_train.items():\n",
    "    # Filter the data for the level\n",
    "    Y_level_train = Y_train_df_te.query(\"temporal_id in @temporal_ids_train\")\n",
    "    temporal_ids_test = tags_te_test[level]\n",
    "    Y_level_test = Y_test_df_te.query(\"temporal_id in @temporal_ids_test\")\n",
    "    # For each temporal level we have a different frequency and forecast horizon\n",
    "    freq_level = pd.infer_freq(Y_level_train[\"ds\"].unique())\n",
    "    horizon_level = Y_level_test[\"ds\"].nunique()\n",
    "    # Train a model and create forecasts\n",
    "    fcst = StatsForecast(models=[AutoETS(model='ZZZ')], freq=freq_level, n_jobs=-1)\n",
    "    Y_hat_df_te_level = fcst.forecast(df=Y_level_train[[\"ds\", \"unique_id\", \"y\"]], h=horizon_level)\n",
    "    # Add the test set to the forecast\n",
    "    Y_hat_df_te_level = Y_hat_df_te_level.merge(Y_level_test, on=[\"ds\", \"unique_id\"], how=\"left\")\n",
    "    # Put cols in the right order (for readability)\n",
    "    Y_hat_cols = id_cols + [col for col in Y_hat_df_te_level.columns if col not in id_cols]\n",
    "    Y_hat_df_te_level = Y_hat_df_te_level[Y_hat_cols]\n",
    "    # Append the forecast to the list\n",
    "    Y_hat_dfs_te.append(Y_hat_df_te_level)\n",
    "\n",
    "Y_hat_df_te = pd.concat(Y_hat_dfs_te, ignore_index=True)"
   ]
  },
  {
   "cell_type": "code",
   "execution_count": 38,
   "id": "6c206fa0-e0d9-4d08-8422-e34ff0a0187f",
   "metadata": {},
   "outputs": [
    {
     "data": {
      "text/html": [
       "<div>\n",
       "<style scoped>\n",
       "    .dataframe tbody tr th:only-of-type {\n",
       "        vertical-align: middle;\n",
       "    }\n",
       "\n",
       "    .dataframe tbody tr th {\n",
       "        vertical-align: top;\n",
       "    }\n",
       "\n",
       "    .dataframe thead th {\n",
       "        text-align: right;\n",
       "    }\n",
       "</style>\n",
       "<table border=\"1\" class=\"dataframe\">\n",
       "  <thead>\n",
       "    <tr style=\"text-align: right;\">\n",
       "      <th></th>\n",
       "      <th>unique_id</th>\n",
       "      <th>temporal_id</th>\n",
       "      <th>ds</th>\n",
       "      <th>y</th>\n",
       "      <th>AutoETS</th>\n",
       "    </tr>\n",
       "  </thead>\n",
       "  <tbody>\n",
       "    <tr>\n",
       "      <th>0</th>\n",
       "      <td>Australia</td>\n",
       "      <td>year-1</td>\n",
       "      <td>2016-10-01</td>\n",
       "      <td>101484.586551</td>\n",
       "      <td>97448.236033</td>\n",
       "    </tr>\n",
       "    <tr>\n",
       "      <th>1</th>\n",
       "      <td>Australia</td>\n",
       "      <td>year-2</td>\n",
       "      <td>2017-10-01</td>\n",
       "      <td>107709.864650</td>\n",
       "      <td>97448.236033</td>\n",
       "    </tr>\n",
       "    <tr>\n",
       "      <th>2</th>\n",
       "      <td>Australia/ACT</td>\n",
       "      <td>year-1</td>\n",
       "      <td>2016-10-01</td>\n",
       "      <td>2457.401367</td>\n",
       "      <td>2295.142976</td>\n",
       "    </tr>\n",
       "    <tr>\n",
       "      <th>3</th>\n",
       "      <td>Australia/ACT</td>\n",
       "      <td>year-2</td>\n",
       "      <td>2017-10-01</td>\n",
       "      <td>2734.748452</td>\n",
       "      <td>2295.142976</td>\n",
       "    </tr>\n",
       "    <tr>\n",
       "      <th>4</th>\n",
       "      <td>Australia/ACT/Business</td>\n",
       "      <td>year-1</td>\n",
       "      <td>2016-10-01</td>\n",
       "      <td>754.139245</td>\n",
       "      <td>616.497987</td>\n",
       "    </tr>\n",
       "  </tbody>\n",
       "</table>\n",
       "</div>"
      ],
      "text/plain": [
       "                unique_id temporal_id         ds              y       AutoETS\n",
       "0               Australia      year-1 2016-10-01  101484.586551  97448.236033\n",
       "1               Australia      year-2 2017-10-01  107709.864650  97448.236033\n",
       "2           Australia/ACT      year-1 2016-10-01    2457.401367   2295.142976\n",
       "3           Australia/ACT      year-2 2017-10-01    2734.748452   2295.142976\n",
       "4  Australia/ACT/Business      year-1 2016-10-01     754.139245    616.497987"
      ]
     },
     "execution_count": 38,
     "metadata": {},
     "output_type": "execute_result"
    }
   ],
   "source": [
    "Y_hat_df_te.head()"
   ]
  },
  {
   "cell_type": "code",
   "execution_count": null,
   "id": "f9a42941-4266-40f1-9de0-4f357bc37244",
   "metadata": {},
   "outputs": [],
   "source": []
  },
  {
   "cell_type": "markdown",
   "id": "3a49e48a-1832-40a1-9474-6ed53385f7ff",
   "metadata": {},
   "source": [
    "### 9. Reconciliación temporal \n",
    "#### (DUDA SI SE HACE conciliación TEMPORAL, nada asegura que se mantenga la conciliación GEOGRÁFICA???)"
   ]
  },
  {
   "cell_type": "code",
   "execution_count": 39,
   "id": "677adafa-2a3b-4b89-b2af-71f7a97d2e31",
   "metadata": {},
   "outputs": [],
   "source": [
    "reconcilers = [\n",
    "    BottomUp(),\n",
    "    MinTrace(method='ols')\n",
    "]\n",
    "hrec = HierarchicalReconciliation(reconcilers=reconcilers)\n",
    "Y_rec_df_te = hrec.reconcile(Y_hat_df = Y_hat_df_te, S = S_test_df_te, tags = tags_te_test, temporal = True)"
   ]
  },
  {
   "cell_type": "code",
   "execution_count": null,
   "id": "8d889ca7-88d6-43c1-851c-139526c76e4b",
   "metadata": {},
   "outputs": [],
   "source": []
  },
  {
   "cell_type": "markdown",
   "id": "859b382e-2277-4071-aa5f-d5ac08c49644",
   "metadata": {},
   "source": [
    "#### 9.a Validar que se conserva reconciliación geográfica (está la duda porque en ninguna parte se usa el fcst reconciliación geográfica)"
   ]
  },
  {
   "cell_type": "code",
   "execution_count": 40,
   "id": "ede9d34f-10f2-4fc6-a242-5071622d1076",
   "metadata": {},
   "outputs": [
    {
     "data": {
      "text/plain": [
       "['Australia']"
      ]
     },
     "execution_count": 40,
     "metadata": {},
     "output_type": "execute_result"
    }
   ],
   "source": [
    "# obtener las series de \"Country\"\n",
    "list_series_country = tags_cs['Country'].tolist()\n",
    "list_series_country"
   ]
  },
  {
   "cell_type": "code",
   "execution_count": 41,
   "id": "985753eb-d304-4f03-b563-7f37204effad",
   "metadata": {},
   "outputs": [
    {
     "data": {
      "text/plain": [
       "304"
      ]
     },
     "execution_count": 41,
     "metadata": {},
     "output_type": "execute_result"
    }
   ],
   "source": [
    "# obtener las series 'Country/State/Region/Purpose' (EL NIVEL DE MAYOR DESAGREGACIÓN DEL FORECAST)\n",
    "list_series_all_desagregacion = tags_cs['Country/State/Region/Purpose'].tolist()\n",
    "len(list_series_all_desagregacion)"
   ]
  },
  {
   "cell_type": "code",
   "execution_count": 42,
   "id": "bd9b5098-7a22-4280-926d-a0c417e8dac1",
   "metadata": {},
   "outputs": [],
   "source": [
    "# definir fecha de fcst para evaluar las diferentes agregaciones geográficas\n",
    "fecha_example_filter = '2016-01-01'"
   ]
  },
  {
   "cell_type": "code",
   "execution_count": 43,
   "id": "e4cd695c-9457-422a-9441-0f7422b78d81",
   "metadata": {},
   "outputs": [
    {
     "data": {
      "text/html": [
       "<div>\n",
       "<style scoped>\n",
       "    .dataframe tbody tr th:only-of-type {\n",
       "        vertical-align: middle;\n",
       "    }\n",
       "\n",
       "    .dataframe tbody tr th {\n",
       "        vertical-align: top;\n",
       "    }\n",
       "\n",
       "    .dataframe thead th {\n",
       "        text-align: right;\n",
       "    }\n",
       "</style>\n",
       "<table border=\"1\" class=\"dataframe\">\n",
       "  <thead>\n",
       "    <tr style=\"text-align: right;\">\n",
       "      <th></th>\n",
       "      <th>unique_id</th>\n",
       "      <th>temporal_id</th>\n",
       "      <th>ds</th>\n",
       "      <th>y</th>\n",
       "      <th>AutoETS</th>\n",
       "      <th>AutoETS/BottomUp</th>\n",
       "      <th>AutoETS/MinTrace_method-ols</th>\n",
       "    </tr>\n",
       "  </thead>\n",
       "  <tbody>\n",
       "    <tr>\n",
       "      <th>2550</th>\n",
       "      <td>Australia</td>\n",
       "      <td>quarter-1</td>\n",
       "      <td>2016-01-01</td>\n",
       "      <td>26660.637689</td>\n",
       "      <td>24088.540395</td>\n",
       "      <td>24088.540395</td>\n",
       "      <td>24211.417015</td>\n",
       "    </tr>\n",
       "  </tbody>\n",
       "</table>\n",
       "</div>"
      ],
      "text/plain": [
       "      unique_id temporal_id         ds             y       AutoETS  \\\n",
       "2550  Australia   quarter-1 2016-01-01  26660.637689  24088.540395   \n",
       "\n",
       "      AutoETS/BottomUp  AutoETS/MinTrace_method-ols  \n",
       "2550      24088.540395                 24211.417015  "
      ]
     },
     "execution_count": 43,
     "metadata": {},
     "output_type": "execute_result"
    }
   ],
   "source": [
    "# filtrar forecast país para una fecha en específico (para comparar vs la suma del forecast cada state por separado y luego sumándolo)\n",
    "# USAR DF conciliación temporal\n",
    "mask_example_country = (Y_rec_df_te['unique_id'].isin(list_series_country)) & (Y_rec_df_te['ds'] == fecha_example_filter)\n",
    "Y_rec_df_te[mask_example_country]"
   ]
  },
  {
   "cell_type": "code",
   "execution_count": 44,
   "id": "e446957b-aa96-441a-a153-f1f2f8b8ee95",
   "metadata": {},
   "outputs": [
    {
     "data": {
      "text/html": [
       "<div>\n",
       "<style scoped>\n",
       "    .dataframe tbody tr th:only-of-type {\n",
       "        vertical-align: middle;\n",
       "    }\n",
       "\n",
       "    .dataframe tbody tr th {\n",
       "        vertical-align: top;\n",
       "    }\n",
       "\n",
       "    .dataframe thead th {\n",
       "        text-align: right;\n",
       "    }\n",
       "</style>\n",
       "<table border=\"1\" class=\"dataframe\">\n",
       "  <thead>\n",
       "    <tr style=\"text-align: right;\">\n",
       "      <th></th>\n",
       "      <th>AutoETS</th>\n",
       "      <th>AutoETS/BottomUp</th>\n",
       "      <th>AutoETS/MinTrace_method-ols</th>\n",
       "    </tr>\n",
       "  </thead>\n",
       "  <tbody>\n",
       "    <tr>\n",
       "      <th>sum_result</th>\n",
       "      <td>23136.828519</td>\n",
       "      <td>23136.828519</td>\n",
       "      <td>22852.755381</td>\n",
       "    </tr>\n",
       "  </tbody>\n",
       "</table>\n",
       "</div>"
      ],
      "text/plain": [
       "                 AutoETS  AutoETS/BottomUp  AutoETS/MinTrace_method-ols\n",
       "sum_result  23136.828519      23136.828519                 22852.755381"
      ]
     },
     "execution_count": 44,
     "metadata": {},
     "output_type": "execute_result"
    }
   ],
   "source": [
    "# FILTRAR FORECAST DEL NIVEL DE MAYOR DESEGREGACION Y SUMAR HASTA LLEGAR A COUNTRY. validar que bottom/up sumó desde el nivel de mayor desagregacion\n",
    "mask_example_all_desagregation = (Y_rec_df_te['unique_id'].isin(list_series_all_desagregacion)) & (Y_rec_df_te['ds'] == fecha_example_filter)\n",
    "Y_rec_df_te_example = Y_rec_df_te[mask_example_all_desagregation]\n",
    "\n",
    "cols_to_sum = ['AutoETS', 'AutoETS/BottomUp', 'AutoETS/MinTrace_method-ols']\n",
    "Y_rec_df_te_example[cols_to_sum].sum(axis=0).to_frame(name='sum_result').T"
   ]
  },
  {
   "cell_type": "code",
   "execution_count": 45,
   "id": "e4bf569d-d918-4470-81a0-dcb89eef149d",
   "metadata": {},
   "outputs": [],
   "source": [
    "# la suma de las series geográficas para una fecha no da lo mismo que al comparar con el total_país (cuando se hace consolidación temporal)\n",
    "# así se necesita elegir una"
   ]
  },
  {
   "cell_type": "code",
   "execution_count": null,
   "id": "2982a009-7ebc-4424-8efd-1b473b4ebd79",
   "metadata": {},
   "outputs": [],
   "source": []
  },
  {
   "cell_type": "code",
   "execution_count": null,
   "id": "79973cd9-c07a-4822-aaaa-8bfd19c2d402",
   "metadata": {},
   "outputs": [],
   "source": []
  },
  {
   "cell_type": "markdown",
   "id": "d1fab9db-cd96-4a0a-a7ea-068ac7140554",
   "metadata": {},
   "source": [
    "# EFECTIVAMENTE NO COINCIDE. \n",
    "# ENTONCES SOLO SE PUEDE HACER UNA SOLA CONSOLIDACIÓN."
   ]
  },
  {
   "cell_type": "code",
   "execution_count": null,
   "id": "53b64fcd-2158-42ef-8da1-e94d2724b15c",
   "metadata": {},
   "outputs": [],
   "source": []
  },
  {
   "cell_type": "code",
   "execution_count": null,
   "id": "878d9bf5-34ea-4121-8fe4-19fbec3b50c5",
   "metadata": {},
   "outputs": [],
   "source": []
  },
  {
   "cell_type": "code",
   "execution_count": null,
   "id": "6f29d4eb-4b37-4fec-982d-74db6929b82e",
   "metadata": {},
   "outputs": [],
   "source": []
  },
  {
   "cell_type": "markdown",
   "id": "c6e78b3d-b906-45c1-9067-fbfbbad01dfb",
   "metadata": {},
   "source": [
    "### NOTEBOOK BASE CONTINUA CON LA EVALUACIÓN\n",
    "https://nixtlaverse.nixtla.io/hierarchicalforecast/examples/australiandomestictourismcrosstemporal.html#4-evaluation"
   ]
  },
  {
   "cell_type": "code",
   "execution_count": 46,
   "id": "9cc4f5ed-0dbb-438e-a5c7-e357093efd5c",
   "metadata": {},
   "outputs": [],
   "source": [
    "# se omite porque se puede ver que en el ejemplo, al hacer consolidación temporal no se mantiene la consolidación geográfica\n",
    "# se tiene que elegir una o la otra"
   ]
  },
  {
   "cell_type": "code",
   "execution_count": null,
   "id": "b239312c-8877-41fd-bccc-3fc934417e65",
   "metadata": {},
   "outputs": [],
   "source": []
  },
  {
   "cell_type": "code",
   "execution_count": null,
   "id": "00da0e1f-d1dd-4df8-8e19-54f8be2088a5",
   "metadata": {},
   "outputs": [],
   "source": []
  },
  {
   "cell_type": "code",
   "execution_count": null,
   "id": "fcedc0e1-f9dc-4994-96ed-a44041700979",
   "metadata": {},
   "outputs": [],
   "source": []
  },
  {
   "cell_type": "code",
   "execution_count": null,
   "id": "ce9d6b48-152c-4328-95e5-284365b34a25",
   "metadata": {},
   "outputs": [],
   "source": []
  }
 ],
 "metadata": {
  "kernelspec": {
   "display_name": "Python 3 (ipykernel)",
   "language": "python",
   "name": "python3"
  },
  "language_info": {
   "codemirror_mode": {
    "name": "ipython",
    "version": 3
   },
   "file_extension": ".py",
   "mimetype": "text/x-python",
   "name": "python",
   "nbconvert_exporter": "python",
   "pygments_lexer": "ipython3",
   "version": "3.11.7"
  }
 },
 "nbformat": 4,
 "nbformat_minor": 5
}
