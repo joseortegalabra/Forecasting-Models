{
 "cells": [
  {
   "cell_type": "markdown",
   "id": "f8fb4180-59f4-4a86-8e76-2f29ba57b3e5",
   "metadata": {},
   "source": [
    "# NOTEBOOK COPIA EJEMPLO NIXTLA hierarchicalforecast\n",
    "- Ejecución de notebook ejemplo base de nixtla - replicar código ejemplo y análisis extra para entender código y modelos ya hechos\n",
    "\n",
    "- EJEMPLO LA DATA FULL DE TOURISM\n",
    "\n",
    "- FUENTES:\n",
    "    - geographical aggregation: https://nixtlaverse.nixtla.io/hierarchicalforecast/examples/australiandomestictourism.html\n",
    "\n",
    "    - geographical and temporal aggregation: https://nixtlaverse.nixtla.io/hierarchicalforecast/examples/australiandomestictourismcrosstemporal.html\n",
    " \n",
    "    - paper base investigación (los códigos de nixtla replican lo obtenido por el paper): https://robjhyndman.com/seminars/fr_overview.html"
   ]
  },
  {
   "cell_type": "code",
   "execution_count": null,
   "id": "28bcb702-3a9f-4706-8158-c3a17f82df77",
   "metadata": {},
   "outputs": [],
   "source": []
  },
  {
   "cell_type": "markdown",
   "id": "fcd3162f-e064-457f-a035-39c9df95fc4f",
   "metadata": {},
   "source": [
    "# POINT RECONCILIATION: Geographical Aggregation (Tourism)"
   ]
  },
  {
   "cell_type": "markdown",
   "id": "b882413c-1bdd-4873-8256-414448fe3804",
   "metadata": {},
   "source": [
    "### 0. Install nixtla package"
   ]
  },
  {
   "cell_type": "code",
   "execution_count": 1,
   "id": "bbf1d8cc-24d6-42df-8b78-1e641f401183",
   "metadata": {},
   "outputs": [],
   "source": [
    "# pip install hierarchicalforecast\n",
    "# pip install datasetsforecast\n",
    "# pip install statsforecast"
   ]
  },
  {
   "cell_type": "code",
   "execution_count": 2,
   "id": "53106d44-db6e-44c5-8bdd-35ac85c9463b",
   "metadata": {},
   "outputs": [],
   "source": [
    "import hierarchicalforecast\n",
    "from datasetsforecast.hierarchical import HierarchicalData\n",
    "import pandas as pd"
   ]
  },
  {
   "cell_type": "code",
   "execution_count": null,
   "id": "51911eae-4371-487d-b207-0a4ba0ae813b",
   "metadata": {},
   "outputs": [],
   "source": []
  },
  {
   "cell_type": "markdown",
   "id": "2b909d75-3fdd-4ed0-81e9-35217f22a6cc",
   "metadata": {},
   "source": [
    "## run code - example nixtla\n",
    "https://nixtlaverse.nixtla.io/hierarchicalforecast/examples/australiandomestictourism.html"
   ]
  },
  {
   "cell_type": "code",
   "execution_count": 3,
   "id": "8fab535e-2063-410a-af87-23efd97bc097",
   "metadata": {},
   "outputs": [],
   "source": [
    "import numpy as np\n",
    "import pandas as pd"
   ]
  },
  {
   "cell_type": "code",
   "execution_count": null,
   "id": "e01c5a25-5698-4165-8283-c1bbf0e05abf",
   "metadata": {},
   "outputs": [],
   "source": []
  },
  {
   "cell_type": "markdown",
   "id": "f4c51386-3915-4e19-b4a4-fbe69f566bbc",
   "metadata": {},
   "source": [
    "### 1. Read data - download data example hyndman"
   ]
  },
  {
   "cell_type": "markdown",
   "id": "70d6790f-8d6f-4ced-961f-fd370ccf5d75",
   "metadata": {},
   "source": [
    "#### 1.1 read raw data"
   ]
  },
  {
   "cell_type": "code",
   "execution_count": 11,
   "id": "74044d56-1986-4d0f-a060-e3eefc0cf9c0",
   "metadata": {},
   "outputs": [],
   "source": [
    "data_raw = pd.read_csv('https://raw.githubusercontent.com/Nixtla/transfer-learning-time-series/main/datasets/tourism.csv')\n",
    "data_raw = data_raw.rename({'Trips': 'y', 'Quarter': 'ds'}, axis=1)\n",
    "data_raw.insert(0, 'Country', 'Australia')\n",
    "data_raw = data_raw[['Country', 'Region', 'State', 'Purpose', 'ds', 'y']]\n",
    "data_raw['ds'] = data_raw['ds'].str.replace(r'(\\d+) (Q\\d)', r'\\1-\\2', regex=True)\n",
    "data_raw['ds'] = pd.PeriodIndex(data_raw[\"ds\"], freq='Q').to_timestamp()"
   ]
  },
  {
   "cell_type": "code",
   "execution_count": 12,
   "id": "9069b1f4-1a44-405b-acf6-9587c06b994d",
   "metadata": {},
   "outputs": [
    {
     "data": {
      "text/html": [
       "<div>\n",
       "<style scoped>\n",
       "    .dataframe tbody tr th:only-of-type {\n",
       "        vertical-align: middle;\n",
       "    }\n",
       "\n",
       "    .dataframe tbody tr th {\n",
       "        vertical-align: top;\n",
       "    }\n",
       "\n",
       "    .dataframe thead th {\n",
       "        text-align: right;\n",
       "    }\n",
       "</style>\n",
       "<table border=\"1\" class=\"dataframe\">\n",
       "  <thead>\n",
       "    <tr style=\"text-align: right;\">\n",
       "      <th></th>\n",
       "      <th>Country</th>\n",
       "      <th>Region</th>\n",
       "      <th>State</th>\n",
       "      <th>Purpose</th>\n",
       "      <th>ds</th>\n",
       "      <th>y</th>\n",
       "    </tr>\n",
       "  </thead>\n",
       "  <tbody>\n",
       "    <tr>\n",
       "      <th>0</th>\n",
       "      <td>Australia</td>\n",
       "      <td>Adelaide</td>\n",
       "      <td>South Australia</td>\n",
       "      <td>Business</td>\n",
       "      <td>1998-01-01</td>\n",
       "      <td>135.077690</td>\n",
       "    </tr>\n",
       "    <tr>\n",
       "      <th>1</th>\n",
       "      <td>Australia</td>\n",
       "      <td>Adelaide</td>\n",
       "      <td>South Australia</td>\n",
       "      <td>Business</td>\n",
       "      <td>1998-04-01</td>\n",
       "      <td>109.987316</td>\n",
       "    </tr>\n",
       "    <tr>\n",
       "      <th>2</th>\n",
       "      <td>Australia</td>\n",
       "      <td>Adelaide</td>\n",
       "      <td>South Australia</td>\n",
       "      <td>Business</td>\n",
       "      <td>1998-07-01</td>\n",
       "      <td>166.034687</td>\n",
       "    </tr>\n",
       "    <tr>\n",
       "      <th>3</th>\n",
       "      <td>Australia</td>\n",
       "      <td>Adelaide</td>\n",
       "      <td>South Australia</td>\n",
       "      <td>Business</td>\n",
       "      <td>1998-10-01</td>\n",
       "      <td>127.160464</td>\n",
       "    </tr>\n",
       "    <tr>\n",
       "      <th>4</th>\n",
       "      <td>Australia</td>\n",
       "      <td>Adelaide</td>\n",
       "      <td>South Australia</td>\n",
       "      <td>Business</td>\n",
       "      <td>1999-01-01</td>\n",
       "      <td>137.448533</td>\n",
       "    </tr>\n",
       "  </tbody>\n",
       "</table>\n",
       "</div>"
      ],
      "text/plain": [
       "     Country    Region            State   Purpose         ds           y\n",
       "0  Australia  Adelaide  South Australia  Business 1998-01-01  135.077690\n",
       "1  Australia  Adelaide  South Australia  Business 1998-04-01  109.987316\n",
       "2  Australia  Adelaide  South Australia  Business 1998-07-01  166.034687\n",
       "3  Australia  Adelaide  South Australia  Business 1998-10-01  127.160464\n",
       "4  Australia  Adelaide  South Australia  Business 1999-01-01  137.448533"
      ]
     },
     "execution_count": 12,
     "metadata": {},
     "output_type": "execute_result"
    }
   ],
   "source": [
    "# print data - se observa que a diferencia del ejemplo small que se carga la matriz S para realizar la reconciliación de forecast\n",
    "data_raw.head()"
   ]
  },
  {
   "cell_type": "code",
   "execution_count": null,
   "id": "c37549eb-c48b-4b5a-8eb1-dafd2ea88d1e",
   "metadata": {},
   "outputs": [],
   "source": []
  },
  {
   "cell_type": "markdown",
   "id": "9f697143-d479-4392-9e3d-48fb7dc8db6b",
   "metadata": {},
   "source": [
    "#### 1.2 Cargar agregación de los datos - cómo se agrupan las series en los diferentes niveles"
   ]
  },
  {
   "cell_type": "code",
   "execution_count": 13,
   "id": "e1d5bfc9-ef7e-4f16-ba5e-ac438a33e0a7",
   "metadata": {},
   "outputs": [],
   "source": [
    "spec = [\n",
    "    ['Country'],\n",
    "    ['Country', 'State'], \n",
    "    ['Country', 'Purpose'], \n",
    "    ['Country', 'State', 'Region'], \n",
    "    ['Country', 'State', 'Purpose'], \n",
    "    ['Country', 'State', 'Region', 'Purpose']\n",
    "]"
   ]
  },
  {
   "cell_type": "code",
   "execution_count": null,
   "id": "d5012686-11b7-4f76-9a9c-84323b07fb67",
   "metadata": {},
   "outputs": [],
   "source": []
  },
  {
   "cell_type": "markdown",
   "id": "9c438675-cffb-4795-9316-b97355c8de69",
   "metadata": {},
   "source": [
    "#### 1.3 Generar el conjunto completo de series y las matrices para realizar la consolidación de los resultados (S, tags)\n",
    "**nixtla tiene la función para generar la agregación**"
   ]
  },
  {
   "cell_type": "code",
   "execution_count": 14,
   "id": "1e84cd0e-3b6b-49dc-b6da-5b87f6f29f96",
   "metadata": {},
   "outputs": [],
   "source": [
    "from hierarchicalforecast.utils import aggregate"
   ]
  },
  {
   "cell_type": "code",
   "execution_count": 15,
   "id": "c4cb3b71-3c43-48bd-b24b-08d3df253f7e",
   "metadata": {},
   "outputs": [],
   "source": [
    "Y_df, S_df, tags = aggregate(data_raw, spec)"
   ]
  },
  {
   "cell_type": "code",
   "execution_count": null,
   "id": "8ce837a5-bcf5-47fb-bf85-022059d717a8",
   "metadata": {},
   "outputs": [],
   "source": []
  },
  {
   "cell_type": "code",
   "execution_count": 26,
   "id": "e0211ace-dddf-4210-bea6-e60c494a89fe",
   "metadata": {},
   "outputs": [],
   "source": [
    "# print head diferentes dataframes generados en la agregación de las series"
   ]
  },
  {
   "cell_type": "code",
   "execution_count": 21,
   "id": "111277d2-4deb-4112-9868-f195a6fe3314",
   "metadata": {},
   "outputs": [
    {
     "data": {
      "text/html": [
       "<div>\n",
       "<style scoped>\n",
       "    .dataframe tbody tr th:only-of-type {\n",
       "        vertical-align: middle;\n",
       "    }\n",
       "\n",
       "    .dataframe tbody tr th {\n",
       "        vertical-align: top;\n",
       "    }\n",
       "\n",
       "    .dataframe thead th {\n",
       "        text-align: right;\n",
       "    }\n",
       "</style>\n",
       "<table border=\"1\" class=\"dataframe\">\n",
       "  <thead>\n",
       "    <tr style=\"text-align: right;\">\n",
       "      <th></th>\n",
       "      <th>unique_id</th>\n",
       "      <th>ds</th>\n",
       "      <th>y</th>\n",
       "    </tr>\n",
       "  </thead>\n",
       "  <tbody>\n",
       "    <tr>\n",
       "      <th>0</th>\n",
       "      <td>Australia</td>\n",
       "      <td>1998-01-01</td>\n",
       "      <td>23182.197269</td>\n",
       "    </tr>\n",
       "    <tr>\n",
       "      <th>1</th>\n",
       "      <td>Australia</td>\n",
       "      <td>1998-04-01</td>\n",
       "      <td>20323.380067</td>\n",
       "    </tr>\n",
       "    <tr>\n",
       "      <th>2</th>\n",
       "      <td>Australia</td>\n",
       "      <td>1998-07-01</td>\n",
       "      <td>19826.640511</td>\n",
       "    </tr>\n",
       "  </tbody>\n",
       "</table>\n",
       "</div>"
      ],
      "text/plain": [
       "   unique_id         ds             y\n",
       "0  Australia 1998-01-01  23182.197269\n",
       "1  Australia 1998-04-01  20323.380067\n",
       "2  Australia 1998-07-01  19826.640511"
      ]
     },
     "execution_count": 21,
     "metadata": {},
     "output_type": "execute_result"
    }
   ],
   "source": [
    "Y_df.head(3)"
   ]
  },
  {
   "cell_type": "code",
   "execution_count": 22,
   "id": "9a8ed5b5-08e7-458c-ae61-55a75ce61d66",
   "metadata": {},
   "outputs": [
    {
     "data": {
      "text/html": [
       "<div>\n",
       "<style scoped>\n",
       "    .dataframe tbody tr th:only-of-type {\n",
       "        vertical-align: middle;\n",
       "    }\n",
       "\n",
       "    .dataframe tbody tr th {\n",
       "        vertical-align: top;\n",
       "    }\n",
       "\n",
       "    .dataframe thead th {\n",
       "        text-align: right;\n",
       "    }\n",
       "</style>\n",
       "<table border=\"1\" class=\"dataframe\">\n",
       "  <thead>\n",
       "    <tr style=\"text-align: right;\">\n",
       "      <th></th>\n",
       "      <th>unique_id</th>\n",
       "      <th>Australia/ACT/Canberra/Business</th>\n",
       "      <th>Australia/ACT/Canberra/Holiday</th>\n",
       "      <th>Australia/ACT/Canberra/Other</th>\n",
       "      <th>Australia/ACT/Canberra/Visiting</th>\n",
       "    </tr>\n",
       "  </thead>\n",
       "  <tbody>\n",
       "    <tr>\n",
       "      <th>0</th>\n",
       "      <td>Australia</td>\n",
       "      <td>1.0</td>\n",
       "      <td>1.0</td>\n",
       "      <td>1.0</td>\n",
       "      <td>1.0</td>\n",
       "    </tr>\n",
       "    <tr>\n",
       "      <th>1</th>\n",
       "      <td>Australia/ACT</td>\n",
       "      <td>1.0</td>\n",
       "      <td>1.0</td>\n",
       "      <td>1.0</td>\n",
       "      <td>1.0</td>\n",
       "    </tr>\n",
       "    <tr>\n",
       "      <th>2</th>\n",
       "      <td>Australia/New South Wales</td>\n",
       "      <td>0.0</td>\n",
       "      <td>0.0</td>\n",
       "      <td>0.0</td>\n",
       "      <td>0.0</td>\n",
       "    </tr>\n",
       "    <tr>\n",
       "      <th>3</th>\n",
       "      <td>Australia/Northern Territory</td>\n",
       "      <td>0.0</td>\n",
       "      <td>0.0</td>\n",
       "      <td>0.0</td>\n",
       "      <td>0.0</td>\n",
       "    </tr>\n",
       "    <tr>\n",
       "      <th>4</th>\n",
       "      <td>Australia/Queensland</td>\n",
       "      <td>0.0</td>\n",
       "      <td>0.0</td>\n",
       "      <td>0.0</td>\n",
       "      <td>0.0</td>\n",
       "    </tr>\n",
       "  </tbody>\n",
       "</table>\n",
       "</div>"
      ],
      "text/plain": [
       "                      unique_id  Australia/ACT/Canberra/Business  \\\n",
       "0                     Australia                              1.0   \n",
       "1                 Australia/ACT                              1.0   \n",
       "2     Australia/New South Wales                              0.0   \n",
       "3  Australia/Northern Territory                              0.0   \n",
       "4          Australia/Queensland                              0.0   \n",
       "\n",
       "   Australia/ACT/Canberra/Holiday  Australia/ACT/Canberra/Other  \\\n",
       "0                             1.0                           1.0   \n",
       "1                             1.0                           1.0   \n",
       "2                             0.0                           0.0   \n",
       "3                             0.0                           0.0   \n",
       "4                             0.0                           0.0   \n",
       "\n",
       "   Australia/ACT/Canberra/Visiting  \n",
       "0                              1.0  \n",
       "1                              1.0  \n",
       "2                              0.0  \n",
       "3                              0.0  \n",
       "4                              0.0  "
      ]
     },
     "execution_count": 22,
     "metadata": {},
     "output_type": "execute_result"
    }
   ],
   "source": [
    "S_df.iloc[:5, :5]"
   ]
  },
  {
   "cell_type": "code",
   "execution_count": 23,
   "id": "272880a8-05d8-42d8-8fed-eb34232fd3cc",
   "metadata": {},
   "outputs": [
    {
     "data": {
      "text/plain": [
       "array(['Australia/Business', 'Australia/Holiday', 'Australia/Other',\n",
       "       'Australia/Visiting'], dtype=object)"
      ]
     },
     "execution_count": 23,
     "metadata": {},
     "output_type": "execute_result"
    }
   ],
   "source": [
    "tags['Country/Purpose']"
   ]
  },
  {
   "cell_type": "code",
   "execution_count": 18,
   "id": "c24ff66a-101f-48e4-9d3a-e8c8755b6813",
   "metadata": {},
   "outputs": [
    {
     "data": {
      "text/plain": [
       "(24320, 6)"
      ]
     },
     "execution_count": 18,
     "metadata": {},
     "output_type": "execute_result"
    }
   ],
   "source": [
    "# shape data raw\n",
    "data_raw.shape"
   ]
  },
  {
   "cell_type": "code",
   "execution_count": 19,
   "id": "d6da515e-3f9f-4e18-8051-ef5d9cb342f7",
   "metadata": {},
   "outputs": [
    {
     "data": {
      "text/plain": [
       "(34000, 3)"
      ]
     },
     "execution_count": 19,
     "metadata": {},
     "output_type": "execute_result"
    }
   ],
   "source": [
    "# shape y_df - se generan más series\n",
    "Y_df.shape"
   ]
  },
  {
   "cell_type": "code",
   "execution_count": 20,
   "id": "c71d639e-e4ba-4b41-b752-bdf466ed8187",
   "metadata": {},
   "outputs": [
    {
     "data": {
      "text/plain": [
       "(425, 305)"
      ]
     },
     "execution_count": 20,
     "metadata": {},
     "output_type": "execute_result"
    }
   ],
   "source": [
    "# matriz matriz S\n",
    "S_df.shape"
   ]
  },
  {
   "cell_type": "code",
   "execution_count": 25,
   "id": "652050b0-1085-4f56-8ac6-816946283376",
   "metadata": {},
   "outputs": [
    {
     "data": {
      "text/plain": [
       "dict_keys(['Country', 'Country/State', 'Country/Purpose', 'Country/State/Region', 'Country/State/Purpose', 'Country/State/Region/Purpose'])"
      ]
     },
     "execution_count": 25,
     "metadata": {},
     "output_type": "execute_result"
    }
   ],
   "source": [
    "tags.keys()"
   ]
  },
  {
   "cell_type": "code",
   "execution_count": null,
   "id": "e1913621-3c6d-47fe-bf05-30be01c12082",
   "metadata": {},
   "outputs": [],
   "source": []
  },
  {
   "cell_type": "markdown",
   "id": "6a2eb91e-8d1e-4319-8439-f5c26d527f3d",
   "metadata": {},
   "source": [
    "### 2. Discovery Data (fuente origen propia)"
   ]
  },
  {
   "cell_type": "markdown",
   "id": "beee6848-bed8-4f2c-b8c5-81928f9b6d57",
   "metadata": {},
   "source": [
    "#### 2.1 discovery data_raw"
   ]
  },
  {
   "cell_type": "code",
   "execution_count": 135,
   "id": "0ee3ca0f-5833-49df-a6fc-7a9ce5485f3d",
   "metadata": {},
   "outputs": [
    {
     "data": {
      "text/html": [
       "<div>\n",
       "<style scoped>\n",
       "    .dataframe tbody tr th:only-of-type {\n",
       "        vertical-align: middle;\n",
       "    }\n",
       "\n",
       "    .dataframe tbody tr th {\n",
       "        vertical-align: top;\n",
       "    }\n",
       "\n",
       "    .dataframe thead th {\n",
       "        text-align: right;\n",
       "    }\n",
       "</style>\n",
       "<table border=\"1\" class=\"dataframe\">\n",
       "  <thead>\n",
       "    <tr style=\"text-align: right;\">\n",
       "      <th></th>\n",
       "      <th>Country</th>\n",
       "      <th>Region</th>\n",
       "      <th>State</th>\n",
       "      <th>Purpose</th>\n",
       "      <th>ds</th>\n",
       "      <th>y</th>\n",
       "      <th>unique_id</th>\n",
       "    </tr>\n",
       "  </thead>\n",
       "  <tbody>\n",
       "    <tr>\n",
       "      <th>0</th>\n",
       "      <td>Australia</td>\n",
       "      <td>Adelaide</td>\n",
       "      <td>South Australia</td>\n",
       "      <td>Business</td>\n",
       "      <td>1998-01-01</td>\n",
       "      <td>135.077690</td>\n",
       "      <td>Australia/South Australia/Adelaide/Business</td>\n",
       "    </tr>\n",
       "    <tr>\n",
       "      <th>1</th>\n",
       "      <td>Australia</td>\n",
       "      <td>Adelaide</td>\n",
       "      <td>South Australia</td>\n",
       "      <td>Business</td>\n",
       "      <td>1998-04-01</td>\n",
       "      <td>109.987316</td>\n",
       "      <td>Australia/South Australia/Adelaide/Business</td>\n",
       "    </tr>\n",
       "    <tr>\n",
       "      <th>2</th>\n",
       "      <td>Australia</td>\n",
       "      <td>Adelaide</td>\n",
       "      <td>South Australia</td>\n",
       "      <td>Business</td>\n",
       "      <td>1998-07-01</td>\n",
       "      <td>166.034687</td>\n",
       "      <td>Australia/South Australia/Adelaide/Business</td>\n",
       "    </tr>\n",
       "  </tbody>\n",
       "</table>\n",
       "</div>"
      ],
      "text/plain": [
       "     Country    Region            State   Purpose         ds           y  \\\n",
       "0  Australia  Adelaide  South Australia  Business 1998-01-01  135.077690   \n",
       "1  Australia  Adelaide  South Australia  Business 1998-04-01  109.987316   \n",
       "2  Australia  Adelaide  South Australia  Business 1998-07-01  166.034687   \n",
       "\n",
       "                                     unique_id  \n",
       "0  Australia/South Australia/Adelaide/Business  \n",
       "1  Australia/South Australia/Adelaide/Business  \n",
       "2  Australia/South Australia/Adelaide/Business  "
      ]
     },
     "execution_count": 135,
     "metadata": {},
     "output_type": "execute_result"
    }
   ],
   "source": [
    "# generar columna unique_id\n",
    "data_raw['unique_id'] = data_raw['Country'] + '/' + data_raw['State'] + '/' + data_raw['Region'] + '/' + data_raw['Purpose']\n",
    "data_raw.head(3)"
   ]
  },
  {
   "cell_type": "code",
   "execution_count": 136,
   "id": "6ca41a3a-5518-48ec-b38d-7ab3596ec9dd",
   "metadata": {},
   "outputs": [
    {
     "data": {
      "text/plain": [
       "(24320, 7)"
      ]
     },
     "execution_count": 136,
     "metadata": {},
     "output_type": "execute_result"
    }
   ],
   "source": [
    "# print tamaño data RAW\n",
    "data_raw.shape"
   ]
  },
  {
   "cell_type": "code",
   "execution_count": 137,
   "id": "56469db2-7085-4ce2-a1ae-4d5372cefc37",
   "metadata": {},
   "outputs": [
    {
     "name": "stdout",
     "output_type": "stream",
     "text": [
      "\n",
      "unique_values_country:  ['Australia']\n",
      "\n",
      "unique_values_state:  ['South Australia', 'Northern Territory', 'Western Australia', 'Victoria', 'New South Wales', 'Queensland', 'ACT', 'Tasmania']\n",
      "\n",
      "unique_values_region (example 10):  ['Adelaide', 'Adelaide Hills', 'Alice Springs', \"Australia's Coral Coast\", \"Australia's Golden Outback\", \"Australia's North West\", \"Australia's South West\", 'Ballarat', 'Barkly', 'Barossa']\n",
      "\n",
      "unique_values_purpose:  ['Business', 'Holiday', 'Other', 'Visiting']\n"
     ]
    }
   ],
   "source": [
    "# print algunos ejemplo de cada serie\n",
    "unique_values_country = data_raw['Country'].unique().tolist()\n",
    "unique_values_state = data_raw['State'].unique().tolist()\n",
    "unique_values_region = data_raw['Region'].unique().tolist()\n",
    "unique_values_purpose = data_raw['Purpose'].unique().tolist()\n",
    "print('\\nunique_values_country: ', unique_values_country)\n",
    "print('\\nunique_values_state: ', unique_values_state)\n",
    "print('\\nunique_values_region (example 10): ', unique_values_region[0:10])\n",
    "print('\\nunique_values_purpose: ', unique_values_purpose)"
   ]
  },
  {
   "cell_type": "code",
   "execution_count": 138,
   "id": "b89b9310-a788-4327-bd5c-b610a38a0584",
   "metadata": {},
   "outputs": [
    {
     "name": "stdout",
     "output_type": "stream",
     "text": [
      "shape_unique_values_country:  1\n",
      "shape_unique_values_state:  8\n",
      "shape_unique_values_region:  76\n",
      "shape_unique_values_purpose:  4\n"
     ]
    }
   ],
   "source": [
    "# combinaciones únicas de cada columna\n",
    "print('shape_unique_values_country: ', len(unique_values_country))\n",
    "print('shape_unique_values_state: ', len(unique_values_state))\n",
    "print('shape_unique_values_region: ', len(unique_values_region))\n",
    "print('shape_unique_values_purpose: ', len(unique_values_purpose))"
   ]
  },
  {
   "cell_type": "code",
   "execution_count": 139,
   "id": "fe1ea1bb-8f1f-4adf-a1da-4bf01bfab943",
   "metadata": {},
   "outputs": [
    {
     "data": {
      "text/plain": [
       "(304,)"
      ]
     },
     "execution_count": 139,
     "metadata": {},
     "output_type": "execute_result"
    }
   ],
   "source": [
    "# cantidad de series únicas en los datos\n",
    "data_raw['unique_id'].unique().shape"
   ]
  },
  {
   "cell_type": "code",
   "execution_count": 140,
   "id": "0ae638f9-5f78-4bf6-972a-bba0e54ec12f",
   "metadata": {},
   "outputs": [
    {
     "data": {
      "text/plain": [
       "2432"
      ]
     },
     "execution_count": 140,
     "metadata": {},
     "output_type": "execute_result"
    }
   ],
   "source": [
    "# se ve que no todas las combinaciones existen como series\n",
    "shape_unique_values_country[0] * shape_unique_values_region[0] * shape_unique_values_state[0] * shape_unique_values_purpose[0]"
   ]
  },
  {
   "cell_type": "code",
   "execution_count": 141,
   "id": "1bfefd8a-9cee-4ed1-8716-2059638e8120",
   "metadata": {},
   "outputs": [
    {
     "name": "stdout",
     "output_type": "stream",
     "text": [
      "fecha inicio data:  1998-01-01 00:00:00\n",
      "fecha fin data:  2017-10-01 00:00:00\n",
      "shape serie individual:  (80, 7)\n"
     ]
    }
   ],
   "source": [
    "# print fecha de inicio y fin de los datos (OJO TODAS LAS SERIES TIENEN LA MISMA CANTIDAD DE DATOS y las mismas fechas de inicio y fin)\n",
    "example_unique_id = data_raw['unique_id'][0]\n",
    "fecha_inicio_raw = data_raw[data_raw['unique_id'] == example_unique_id]['ds'].min()\n",
    "fecha_fin_raw = data_raw[data_raw['unique_id'] == example_unique_id]['ds'].max()\n",
    "shape_unique_serie = data_raw[data_raw['unique_id'] == example_unique_id].shape\n",
    "\n",
    "print('fecha inicio data: ', fecha_inicio_raw)\n",
    "print('fecha fin data: ', fecha_fin_raw)\n",
    "print('shape serie individual: ', shape_unique_serie)"
   ]
  },
  {
   "cell_type": "code",
   "execution_count": 142,
   "id": "23a25770-159f-4fc4-896e-3733055ff2ff",
   "metadata": {},
   "outputs": [
    {
     "data": {
      "text/plain": [
       "True"
      ]
     },
     "execution_count": 142,
     "metadata": {},
     "output_type": "execute_result"
    }
   ],
   "source": [
    "# cantidad de series por tamaño de serie, igual al tamaño del dataframe (validar que todas las series tienen la misma cantidad de datos)\n",
    "(80 * 304) == data_raw.shape[0]"
   ]
  },
  {
   "cell_type": "code",
   "execution_count": null,
   "id": "89e65d69-4e32-4801-b59a-ca1b58b00772",
   "metadata": {},
   "outputs": [],
   "source": []
  },
  {
   "cell_type": "markdown",
   "id": "dc5a6fac-6946-4af8-927a-4e0c75233fe9",
   "metadata": {},
   "source": [
    "#### 2.2 discovery data_agregada (data luego de aplicar función de agregación)"
   ]
  },
  {
   "cell_type": "code",
   "execution_count": 143,
   "id": "cd28b07d-a4eb-45ca-a983-9772207a98d0",
   "metadata": {},
   "outputs": [
    {
     "data": {
      "text/plain": [
       "(34000, 3)"
      ]
     },
     "execution_count": 143,
     "metadata": {},
     "output_type": "execute_result"
    }
   ],
   "source": [
    "# print tamaño data\n",
    "Y_df.shape"
   ]
  },
  {
   "cell_type": "code",
   "execution_count": 144,
   "id": "986f38b9-520a-4a8a-9010-61c4080f957c",
   "metadata": {},
   "outputs": [
    {
     "data": {
      "text/plain": [
       "(425,)"
      ]
     },
     "execution_count": 144,
     "metadata": {},
     "output_type": "execute_result"
    }
   ],
   "source": [
    "# cantidad de series únicas en los datos\n",
    "Y_df['unique_id'].unique().shape"
   ]
  },
  {
   "cell_type": "code",
   "execution_count": null,
   "id": "edec687c-001a-4686-b096-d32ee2b12540",
   "metadata": {},
   "outputs": [],
   "source": []
  },
  {
   "cell_type": "markdown",
   "id": "5806fa4e-c198-40e9-8043-1ac2228b2c36",
   "metadata": {},
   "source": [
    "#### 2.3 Validar qué series están en la data raw y cuales no"
   ]
  },
  {
   "cell_type": "code",
   "execution_count": 145,
   "id": "eaddbbd0-dda7-4824-a843-c704fc0588e9",
   "metadata": {},
   "outputs": [
    {
     "name": "stdout",
     "output_type": "stream",
     "text": [
      "list_unique_id_data_raw:  304\n",
      "list_unique_id_data_ydf:  425\n"
     ]
    }
   ],
   "source": [
    "# cantidad de series cada data\n",
    "list_unique_id_data_raw = data_raw['unique_id'].unique().tolist()\n",
    "list_unique_id_data_ydf = Y_df['unique_id'].unique().tolist()\n",
    "print('list_unique_id_data_raw: ', len(list_unique_id_data_raw))\n",
    "print('list_unique_id_data_ydf: ',len(list_unique_id_data_ydf))"
   ]
  },
  {
   "cell_type": "code",
   "execution_count": 146,
   "id": "39e55158-20a7-4c16-ae09-1b020f8dacf7",
   "metadata": {},
   "outputs": [],
   "source": [
    "# qué series están en cada data"
   ]
  },
  {
   "cell_type": "code",
   "execution_count": 156,
   "id": "16120b4e-063a-4e7a-a35d-f12f77b6a888",
   "metadata": {},
   "outputs": [
    {
     "data": {
      "text/plain": [
       "0"
      ]
     },
     "execution_count": 156,
     "metadata": {},
     "output_type": "execute_result"
    }
   ],
   "source": [
    "# cantidad de series que están en la data raw y no en la data agregada (DEBERÍA ESTAR TODA LA DATA)\n",
    "len(list(set(list_unique_id_data_raw) - set(list_unique_id_data_ydf)))"
   ]
  },
  {
   "cell_type": "code",
   "execution_count": 152,
   "id": "7463e392-4954-4682-8b0a-6c3adce5f854",
   "metadata": {},
   "outputs": [
    {
     "data": {
      "text/plain": [
       "121"
      ]
     },
     "execution_count": 152,
     "metadata": {},
     "output_type": "execute_result"
    }
   ],
   "source": [
    "# cantidad de series que están en la data agregada y NO están en la raw (DEBERÍAN ESTAR TODAS LAS SERIES AGREGADAS)\n",
    "len(list(set(list_unique_id_data_ydf) - set(list_unique_id_data_raw)))"
   ]
  },
  {
   "cell_type": "code",
   "execution_count": null,
   "id": "1aeacda3-abbb-4a84-ae3b-e06895d7281f",
   "metadata": {},
   "outputs": [],
   "source": []
  },
  {
   "cell_type": "code",
   "execution_count": 154,
   "id": "80cd557c-7735-4aa8-90f1-8bcdc3486547",
   "metadata": {},
   "outputs": [
    {
     "data": {
      "text/plain": [
       "121"
      ]
     },
     "execution_count": 154,
     "metadata": {},
     "output_type": "execute_result"
    }
   ],
   "source": [
    "# validar que restar la data agregada menos la data raw, se obtiene la diferencia\n",
    "len(list_unique_id_data_ydf) - len(list_unique_id_data_raw)"
   ]
  },
  {
   "cell_type": "markdown",
   "id": "8b5242de-efe3-45d6-9e2e-b941ff7e6d14",
   "metadata": {},
   "source": [
    "**---> ENTONCES LA DATA RAW QUE SE OBTUVO ES LA MÁS DESAGREGADA - LAS SERIES AL NIVEL MÁS INDIVIDUAL**"
   ]
  },
  {
   "cell_type": "code",
   "execution_count": null,
   "id": "fae37211-0c59-4f3d-80b5-1d7f313411ae",
   "metadata": {},
   "outputs": [],
   "source": []
  },
  {
   "cell_type": "code",
   "execution_count": null,
   "id": "4e4b08f2-085d-405a-a12a-f4b32bc63974",
   "metadata": {},
   "outputs": [],
   "source": []
  },
  {
   "cell_type": "markdown",
   "id": "185f17c7-f317-4418-b08f-032f736f55a3",
   "metadata": {},
   "source": [
    "### 3. Split Train/Test sets (continuación código base nixtla)\n",
    "We use the final two years (8 quarters) as test set"
   ]
  },
  {
   "cell_type": "code",
   "execution_count": 159,
   "id": "0d270643-1d5f-4743-b3a3-902e20fe14b5",
   "metadata": {},
   "outputs": [],
   "source": [
    "Y_test_df = Y_df.groupby('unique_id', as_index=False).tail(8)\n",
    "Y_train_df = Y_df.drop(Y_test_df.index)"
   ]
  },
  {
   "cell_type": "code",
   "execution_count": 160,
   "id": "8ca2499e-f1ad-46f4-bc3b-94d0d33ca514",
   "metadata": {},
   "outputs": [
    {
     "name": "stdout",
     "output_type": "stream",
     "text": [
      "Y_df:  (34000, 3)\n",
      "Y_train_df:  (30600, 3)\n",
      "Y_test_df:  (3400, 3)\n"
     ]
    }
   ],
   "source": [
    "print('Y_df: ', Y_df.shape)\n",
    "print('Y_train_df: ', Y_train_df.shape)\n",
    "print('Y_test_df: ', Y_test_df.shape)"
   ]
  },
  {
   "cell_type": "code",
   "execution_count": null,
   "id": "5fb70ba8-357a-44b8-a230-2fdbf8c99084",
   "metadata": {},
   "outputs": [],
   "source": []
  },
  {
   "cell_type": "markdown",
   "id": "cb868b05-67d8-4d45-be1d-bc57f0847f2a",
   "metadata": {},
   "source": [
    "### 4. Computing base forecasts"
   ]
  },
  {
   "cell_type": "code",
   "execution_count": 162,
   "id": "816005d9-6ca4-4bc5-8b9a-878f8f7b0d70",
   "metadata": {},
   "outputs": [],
   "source": [
    "from statsforecast.models import AutoETS\n",
    "from statsforecast.core import StatsForecast"
   ]
  },
  {
   "cell_type": "code",
   "execution_count": null,
   "id": "65d97ad2-49c5-41e8-a2b5-da98ceecc2a8",
   "metadata": {},
   "outputs": [],
   "source": [
    "fcst = StatsForecast(models=[AutoETS(season_length=4, model='ZZA')], \n",
    "                     freq='QS', n_jobs=-1)\n",
    "Y_hat_df = fcst.forecast(df=Y_train_df, h=8, fitted=True)\n",
    "Y_fitted_df = fcst.forecast_fitted_values()"
   ]
  },
  {
   "cell_type": "code",
   "execution_count": null,
   "id": "2f1d3492-bb30-4d88-9b24-2832ca7e4d39",
   "metadata": {},
   "outputs": [],
   "source": []
  },
  {
   "cell_type": "code",
   "execution_count": null,
   "id": "3dac40c9-7286-43b1-bd2d-f509ed229e32",
   "metadata": {},
   "outputs": [],
   "source": []
  },
  {
   "cell_type": "code",
   "execution_count": null,
   "id": "7eefb1e2-0c69-4e05-8c86-0bd3ac3372cd",
   "metadata": {},
   "outputs": [],
   "source": []
  },
  {
   "cell_type": "code",
   "execution_count": null,
   "id": "5a0864d5-97f2-43b3-a9ad-5acf8e90085d",
   "metadata": {},
   "outputs": [],
   "source": []
  },
  {
   "cell_type": "code",
   "execution_count": null,
   "id": "82fe792f-861d-4e2b-a67b-e958202ae268",
   "metadata": {},
   "outputs": [],
   "source": []
  },
  {
   "cell_type": "code",
   "execution_count": null,
   "id": "65bd0a86-9296-4c0c-b52a-7775d97a73ab",
   "metadata": {},
   "outputs": [],
   "source": []
  },
  {
   "cell_type": "code",
   "execution_count": null,
   "id": "9ad61b38-86dc-44e2-ba04-ecb61939e87c",
   "metadata": {},
   "outputs": [],
   "source": []
  }
 ],
 "metadata": {
  "kernelspec": {
   "display_name": "Python 3 (ipykernel)",
   "language": "python",
   "name": "python3"
  },
  "language_info": {
   "codemirror_mode": {
    "name": "ipython",
    "version": 3
   },
   "file_extension": ".py",
   "mimetype": "text/x-python",
   "name": "python",
   "nbconvert_exporter": "python",
   "pygments_lexer": "ipython3",
   "version": "3.11.7"
  }
 },
 "nbformat": 4,
 "nbformat_minor": 5
}
